{
 "cells": [
  {
   "cell_type": "code",
   "execution_count": null,
   "id": "c0fa29d9",
   "metadata": {},
   "outputs": [],
   "source": [
    "import ktrain \n",
    "from ktrain import text\n",
    "import tensorflow as tf\n",
    "import pandas as pd\n",
    "import numpy as np\n",
    "import dotenv\n",
    "import os\n",
    "from pathlib import Path"
   ]
  },
  {
   "cell_type": "markdown",
   "id": "8b62ad9b",
   "metadata": {},
   "source": [
    "# Load the data that needs to be predicted/classified"
   ]
  },
  {
   "cell_type": "code",
   "execution_count": null,
   "id": "fe4eed5f",
   "metadata": {},
   "outputs": [],
   "source": [
    "dotenv.load_dotenv() \n",
    "test_str = \"test_data.csv\"\n",
    "data_dir = Path(os.getenv('test_input_dir')) \n",
    "test_data = pd.read_csv(data_dir/test_str,index_col =0)\n",
    "save_dir = Path(os.getenv('output_model_dir'))"
   ]
  },
  {
   "cell_type": "markdown",
   "id": "3aa30423",
   "metadata": {},
   "source": [
    "Follow the link to enable GPU \n",
    "https://learnopencv.com/how-to-use-opencv-dnn-module-with-nvidia-gpu-on-windows/"
   ]
  },
  {
   "cell_type": "code",
   "execution_count": null,
   "id": "1af41180",
   "metadata": {},
   "outputs": [],
   "source": [
    "physical_devices = tf.config.list_physical_devices('GPU') \n",
    "if len(physical_devices)>0:\n",
    "  tf.config.experimental.set_memory_growth(physical_devices[0], True)"
   ]
  },
  {
   "cell_type": "markdown",
   "id": "679019c9",
   "metadata": {},
   "source": [
    "# Load the model that is saved in the below path"
   ]
  },
  {
   "cell_type": "code",
   "execution_count": null,
   "id": "9aaaa260",
   "metadata": {},
   "outputs": [],
   "source": [
    "loaded_model = ktrain.load_predictor(save_dir/\"model_distilbert\").model\n",
    "loaded_preproc = ktrain.load_predictor(save_dir/\"model_distilbert\").preproc\n",
    "loaded_predictor = ktrain.get_predictor(loaded_model,loaded_preproc )"
   ]
  },
  {
   "cell_type": "markdown",
   "id": "aa576b9e",
   "metadata": {},
   "source": [
    "Add a new column \"predicted_label\" to the test_data dataframe that stores the predictions of the test_data"
   ]
  },
  {
   "cell_type": "code",
   "execution_count": null,
   "id": "b3d7bb51",
   "metadata": {},
   "outputs": [],
   "source": [
    "test_data[\"predicted_label\"] = loaded_predictor.predict(\"Content\")"
   ]
  },
  {
   "cell_type": "markdown",
   "id": "8351ec28",
   "metadata": {},
   "source": [
    "Copy test_data into new variable for future references. This step is purely optional"
   ]
  },
  {
   "cell_type": "code",
   "execution_count": null,
   "id": "9d2515e1",
   "metadata": {},
   "outputs": [],
   "source": [
    "final_predicted_data = test_data"
   ]
  },
  {
   "cell_type": "markdown",
   "id": "c635298d",
   "metadata": {},
   "source": [
    "save the results"
   ]
  },
  {
   "cell_type": "code",
   "execution_count": null,
   "id": "a125c43e",
   "metadata": {},
   "outputs": [],
   "source": [
    "final_predicted_data.to_csv(save_dir/\"final_predicted_data.csv\")"
   ]
  }
 ],
 "metadata": {
  "kernelspec": {
   "display_name": "env1",
   "language": "python",
   "name": "env1"
  },
  "language_info": {
   "codemirror_mode": {
    "name": "ipython",
    "version": 3
   },
   "file_extension": ".py",
   "mimetype": "text/x-python",
   "name": "python",
   "nbconvert_exporter": "python",
   "pygments_lexer": "ipython3",
   "version": "3.9.13"
  }
 },
 "nbformat": 4,
 "nbformat_minor": 5
}
