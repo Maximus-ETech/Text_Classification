{
 "cells": [
  {
   "cell_type": "code",
   "execution_count": null,
   "id": "9f35c2e1",
   "metadata": {},
   "outputs": [],
   "source": [
    "import numpy as np\n",
    "import pandas as pd\n",
    "import os\n",
    "import json\n",
    "import dotenv\n",
    "import os\n",
    "from pathlib import Path\n",
    "from sklearn.model_selection import train_test_split"
   ]
  },
  {
   "cell_type": "code",
   "execution_count": null,
   "id": "bce927e9",
   "metadata": {},
   "outputs": [],
   "source": [
    "dotenv.load_dotenv() \n",
    "main_dir = Path(os.getenv('train_main_dir'))\n",
    "train_main_dir = str(main_dir/\"input_data\"/\"training_data\"/\"tickets_train_raw\")\n",
    "save_dir  = main_dir/\"input_data\"/\"training_data\"/\"derived_dataframe_data\""
   ]
  },
  {
   "cell_type": "code",
   "execution_count": null,
   "id": "724f6d9c",
   "metadata": {},
   "outputs": [],
   "source": [
    "train_dir = os.walk(train_main_dir)\n",
    "for d in train_dir:\n",
    "    train_labels = d[1]\n",
    "    print(d[0],\"------\",d[2])\n",
    "    break"
   ]
  },
  {
   "cell_type": "markdown",
   "id": "f40c51d7",
   "metadata": {},
   "source": [
    "## When Testing data is available for testing the trained model , use the code below to read and store text files in \"train_data\" and \"test_data\" dataframes"
   ]
  },
  {
   "cell_type": "code",
   "execution_count": null,
   "id": "ec75f6fe",
   "metadata": {},
   "outputs": [],
   "source": [
    "train_data = pd.DataFrame(columns=[\"Ticket_ID\",\"Body\"]+train_labels)\n",
    "for label in train_labels: \n",
    "    for ticket in os.listdir(train_main_dir+\"\\\\\"+label):\n",
    "        with open(train_main_dir+\"\\\\\"+label+\"\\\\\"+ticket, 'r',encoding=\"utf-8\") as f:\n",
    "            body = f.read()\n",
    "            train_data.loc[len(train_data.index)] = [ticket]+ [body]+ [0]*len(train_labels)\n",
    "            train_data.loc[len(train_data.index)-1,label] = 1\n",
    "            \n",
    "test_data = pd.DataFrame(columns=[\"Ticket_ID\",\"Body\"]+train_labels)\n",
    "for label in train_labels: \n",
    "    for ticket in os.listdir(train_main_dir+\"\\\\\"+label):\n",
    "        with open(train_main_dir+\"\\\\\"+label+\"\\\\\"+ticket, 'r',encoding=\"utf-8\") as f:\n",
    "            body = f.read()\n",
    "            test_data.loc[len(train_data.index)] = [ticket]+ [body]+ [0]*len(train_labels)\n",
    "            test_data.loc[len(train_data.index)-1,label] = 1"
   ]
  },
  {
   "cell_type": "markdown",
   "id": "8da2e5ae",
   "metadata": {},
   "source": [
    "## When Testing data is not available for testing the trained model , use the code below to read and store text files from a single input folder in \"train_data\" and \"test_data\" dataframes"
   ]
  },
  {
   "cell_type": "code",
   "execution_count": null,
   "id": "0a0c46ce",
   "metadata": {},
   "outputs": [],
   "source": [
    "train_data = pd.DataFrame(columns=[\"Ticket_ID\",\"Body\"]+train_labels)\n",
    "test_data = pd.DataFrame(columns=[\"Ticket_ID\",\"Body\"]+train_labels)\n",
    "\n",
    "for label in train_labels:\n",
    "   # print(label)\n",
    "    file_count = 0\n",
    "    per_cent = 0\n",
    "    for ticket in os.listdir(train_main_dir+\"\\\\\"+label):\n",
    "        file_count+=1\n",
    "    per_cent = int((file_count*80)/100)\n",
    "    \n",
    "    file_count=0\n",
    "    for ticket in os.listdir(train_main_dir+\"\\\\\"+label):\n",
    "        file_count+=1\n",
    "        with open(train_main_dir+\"\\\\\"+label+\"\\\\\"+ticket, 'r',encoding=\"utf-8\") as f:\n",
    "            body = f.read()\n",
    "            if(file_count<=per_cent):\n",
    "                train_data.loc[len(train_data.index)] = [ticket]+ [body]+ [0]*len(train_labels)\n",
    "                train_data.loc[len(train_data.index)-1,label] = 1\n",
    "            else:\n",
    "                test_data.loc[len(test_data.index)] = [ticket]+ [body]+ [0]*len(train_labels)\n",
    "                test_data.loc[len(test_data.index)-1,label] = 1\n"
   ]
  },
  {
   "cell_type": "code",
   "execution_count": null,
   "id": "e002e306",
   "metadata": {},
   "outputs": [],
   "source": [
    "train_data.to_csv(save_dir/\"train_data_derived.csv\")\n",
    "test_data.to_csv(save_dir/\"test_data_derived.csv\")"
   ]
  },
  {
   "cell_type": "code",
   "execution_count": null,
   "id": "096f8df5",
   "metadata": {},
   "outputs": [],
   "source": []
  }
 ],
 "metadata": {
  "kernelspec": {
   "display_name": "multi_label",
   "language": "python",
   "name": "multi_label"
  },
  "language_info": {
   "codemirror_mode": {
    "name": "ipython",
    "version": 3
   },
   "file_extension": ".py",
   "mimetype": "text/x-python",
   "name": "python",
   "nbconvert_exporter": "python",
   "pygments_lexer": "ipython3",
   "version": "3.9.13"
  }
 },
 "nbformat": 4,
 "nbformat_minor": 5
}
