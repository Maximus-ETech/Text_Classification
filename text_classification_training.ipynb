{
 "cells": [
  {
   "cell_type": "markdown",
   "id": "d1625c44",
   "metadata": {},
   "source": [
    "# In this notebook, we have discussed implementing the Multiclass text classification with [Distilbert Model](https://arxiv.org/pdf/1910.01108.pdf) using [ktrain library](https://pypi.org/project/ktrain/)\n",
    "\n",
    "1.   Multiclass text classification: It is the problem of classifying text \n",
    "instances (documents/query/tickets) into one of three or more classes.\n",
    "<br> <br> Example: Classifying queries raised by bank customers into one of the relevant \n",
    "categories like loan related, credit card related, debit card related etc. \n",
    "<br><br> Note: Text classification is an example of supervised machine learning.\n",
    "\n",
    "\n",
    "2. Distilbert model: It is deep learning based general purpose language model. It is pretrained on large corpus on text data. \n",
    "\n",
    "3.   Ktrain is a lightweight wrapper for the deep learning library TensorFlow Keras (and other libraries) to help build, train, and deploy neural networks and other machine learning models.\n"
   ]
  },
  {
   "cell_type": "markdown",
   "id": "4e562f96",
   "metadata": {},
   "source": [
    "# Import required libraries"
   ]
  },
  {
   "cell_type": "code",
   "execution_count": null,
   "id": "26f7407c",
   "metadata": {},
   "outputs": [],
   "source": [
    "import ktrain \n",
    "from ktrain import text\n",
    "import tensorflow as tf\n",
    "import pandas as pd\n",
    "import numpy as np\n",
    "from sklearn.metrics import classification_report\n",
    "from sklearn.metrics import confusion_matrix\n",
    "import dotenv\n",
    "import os\n",
    "from pathlib import Path"
   ]
  },
  {
   "cell_type": "markdown",
   "id": "becfa9a8",
   "metadata": {},
   "source": [
    "# In order to get reproducible results, set random seed. "
   ]
  },
  {
   "cell_type": "code",
   "execution_count": null,
   "id": "37539d03",
   "metadata": {},
   "outputs": [],
   "source": [
    "def reset_random_seeds(seed=2):\n",
    "    os.environ['PYTHONHASHSEED']=str(seed)\n",
    "    tf.random.set_seed(seed)\n",
    "    np.random.seed(seed)\n",
    "    \n",
    "reset_random_seeds() "
   ]
  },
  {
   "cell_type": "markdown",
   "id": "20430491",
   "metadata": {},
   "source": [
    "Follow the link to enable GPU \n",
    "https://learnopencv.com/how-to-use-opencv-dnn-module-with-nvidia-gpu-on-windows/"
   ]
  },
  {
   "cell_type": "markdown",
   "id": "0654656b",
   "metadata": {},
   "source": [
    "# If GPU is available then below code will enable GPU to be used by model training, otherwise model will be trained on CPU. "
   ]
  },
  {
   "cell_type": "code",
   "execution_count": null,
   "id": "8556aa23",
   "metadata": {},
   "outputs": [],
   "source": [
    "physical_devices = tf.config.list_physical_devices('GPU') \n",
    "if len(physical_devices)>0:\n",
    "  tf.config.experimental.set_memory_growth(physical_devices[0], True)"
   ]
  },
  {
   "cell_type": "markdown",
   "id": "7dc750e6",
   "metadata": {},
   "source": [
    "# Read the data that needs to get trained"
   ]
  },
  {
   "cell_type": "code",
   "execution_count": null,
   "id": "ad5fde00",
   "metadata": {},
   "outputs": [],
   "source": [
    "dotenv.load_dotenv() \n",
    "train_str = \"train_data.csv\"\n",
    "data_dir = Path(os.getenv('csv_input_dir'))  \n",
    "save_dir = Path(os.getenv('output_model_dir'))\n",
    "\n",
    "train_data = pd.read_csv(data_dir/train_str,index_col =0)"
   ]
  },
  {
   "cell_type": "code",
   "execution_count": null,
   "id": "e507197c",
   "metadata": {},
   "outputs": [],
   "source": [
    "train_data.head()"
   ]
  },
  {
   "cell_type": "code",
   "execution_count": null,
   "id": "41d2d5a4",
   "metadata": {},
   "outputs": [],
   "source": [
    "Column_names = set(train_data[\"Label\"])"
   ]
  },
  {
   "cell_type": "code",
   "execution_count": null,
   "id": "b947b50a",
   "metadata": {},
   "outputs": [],
   "source": [
    "columns = list(Column_names)"
   ]
  },
  {
   "cell_type": "markdown",
   "id": "fcbd7269",
   "metadata": {},
   "source": [
    "In order to pass equal amount of rows related to each tag to train and validation set, shuffle the data."
   ]
  },
  {
   "cell_type": "code",
   "execution_count": null,
   "id": "81e34e42",
   "metadata": {},
   "outputs": [],
   "source": [
    "train_data = train_data.sample(frac = 1).reset_index()\n",
    "train_data.drop([\"index\"],inplace=True,axis=1)"
   ]
  },
  {
   "cell_type": "markdown",
   "id": "ea20f68b",
   "metadata": {},
   "source": [
    "The input data(training data) is divided into train and test(can also be called as validation data) in the ratio 80:20 respectively.\n",
    "    This is done to evaluate the performence of the model that is trained."
   ]
  },
  {
   "cell_type": "code",
   "execution_count": null,
   "id": "4894a263",
   "metadata": {},
   "outputs": [],
   "source": [
    "train_size = int(len(train_data) * .8)\n",
    "print (\"Train size: %d\" % train_size)\n",
    "print (\"Test size: %d\" % (len(train_data) - train_size))\n",
    "\n",
    "# Train features\n",
    "description_train = train_data['Content'][:train_size]\n",
    "\n",
    "# Train labels\n",
    "labels_train = train_data['Label'][:train_size]\n",
    "\n",
    "# Test features\n",
    "description_test = train_data['Content'][train_size:]\n",
    "\n",
    "# Test labels\n",
    "labels_test = train_data['Label'][train_size:]"
   ]
  },
  {
   "cell_type": "markdown",
   "id": "e9e88304",
   "metadata": {},
   "source": [
    "converting the above series objects to 1-D array in order to fit them in KTrain processor"
   ]
  },
  {
   "cell_type": "code",
   "execution_count": null,
   "id": "5e5d29f4",
   "metadata": {},
   "outputs": [],
   "source": [
    "x_train = description_train.values\n",
    "y_train = labels_train.values\n",
    "x_test = description_test.values\n",
    "y_test = labels_test.values"
   ]
  },
  {
   "cell_type": "markdown",
   "id": "9a9205d7",
   "metadata": {},
   "source": [
    "# Loads and preprocess text data from array by text module of ktrain."
   ]
  },
  {
   "cell_type": "markdown",
   "id": "27249b56",
   "metadata": {},
   "source": [
    "KTrain \"texts_from_array\" is a source that can load texts and associated labels that are in array form"
   ]
  },
  {
   "cell_type": "code",
   "execution_count": null,
   "id": "494d504a",
   "metadata": {},
   "outputs": [],
   "source": [
    "trn, val, preproc = text.texts_from_array(x_train=x_train, y_train=y_train,\n",
    "                                          x_test=x_test, y_test=y_test,\n",
    "                                          ngram_range=3, \n",
    "                                          maxlen=200, \n",
    "                                          preprocess_mode='distilbert',\n",
    "                                          max_features=35000)"
   ]
  },
  {
   "cell_type": "markdown",
   "id": "32b6dfad",
   "metadata": {},
   "source": [
    "Download pre-trained distilbert model for transfer learning."
   ]
  },
  {
   "cell_type": "code",
   "execution_count": null,
   "id": "cb30c57a",
   "metadata": {},
   "outputs": [],
   "source": [
    "model = text.text_classifier('distilbert', train_data=trn, preproc=preproc)"
   ]
  },
  {
   "cell_type": "code",
   "execution_count": null,
   "id": "b3fbcf6c",
   "metadata": {},
   "outputs": [],
   "source": [
    "learner = ktrain.get_learner(model, train_data=trn, val_data=val, batch_size=2)"
   ]
  },
  {
   "cell_type": "markdown",
   "id": "989ce855",
   "metadata": {},
   "source": [
    "Print the summary of the model."
   ]
  },
  {
   "cell_type": "code",
   "execution_count": null,
   "id": "b1013e20",
   "metadata": {},
   "outputs": [],
   "source": [
    "model.summary()"
   ]
  },
  {
   "cell_type": "code",
   "execution_count": null,
   "id": "f3d90537",
   "metadata": {},
   "outputs": [],
   "source": [
    "learner.fit_onecycle(3e-5, 8) # (learning rate,  epochs =8)"
   ]
  },
  {
   "cell_type": "markdown",
   "id": "2c5abb96",
   "metadata": {},
   "source": [
    "# Test model on test data and calculate evaluation metrics."
   ]
  },
  {
   "cell_type": "code",
   "execution_count": null,
   "id": "3f772892",
   "metadata": {},
   "outputs": [],
   "source": [
    "predictor = ktrain.get_predictor(learner.model, preproc)"
   ]
  },
  {
   "cell_type": "code",
   "execution_count": null,
   "id": "b5668c7b",
   "metadata": {},
   "outputs": [],
   "source": [
    "pred_result = predictor.predict(x_test)"
   ]
  },
  {
   "cell_type": "markdown",
   "id": "a4d5646b",
   "metadata": {},
   "source": [
    "# Generally multi class classification model is evaluated on following metrics:\n",
    "\n",
    "1. Accuracy :<br>\n",
    "The base metric used for model evaluation is often Accuracy, describing the number of correct predictions over all predictions.\n",
    "\n",
    "2. Precision:<br>\n",
    "Precision is a measure of how many of the positive predictions made are correct. \n",
    "\n",
    "3. Recall:<br>\n",
    "Recall is a measure of how many of the positive cases the classifier correctly predicted, over all the positive cases in the data.\n",
    "\n",
    "4. F1-Score:<br>\n",
    "F1-Score is a measure combining both precision and recall. It is generally described as the harmonic mean of the two. Harmonic mean is just another way to calculate an “average” of values, generally described as more suitable for ratios (such as precision and recall) than the traditional arithmetic mean."
   ]
  },
  {
   "cell_type": "markdown",
   "id": "64fa350e",
   "metadata": {},
   "source": [
    "Accuracy is not a good measure in case if data having unbalanced classes. <br><br>\n",
    "Here we are interested in getting high value of accuracy and f1-score both as f1-score can summarise both precision and recall together.  <br><br>\n",
    "Below code prints all the required metrics."
   ]
  },
  {
   "cell_type": "code",
   "execution_count": null,
   "id": "6037c398",
   "metadata": {},
   "outputs": [],
   "source": [
    "print(classification_report(\n",
    "  y_test, \n",
    "  pred_result, \n",
    "  target_names= columns, \n",
    "  zero_division=0\n",
    "))"
   ]
  },
  {
   "cell_type": "markdown",
   "id": "d1efd47f",
   "metadata": {},
   "source": [
    "# Confusion Matrix\n",
    "\n",
    "The number of correct and incorrect predictions are summarized with count values and broken down by each class. <br><br>\n",
    "\n",
    "The confusion matrix shows the ways in which your classification model\n",
    "is confused when it makes predictions.\n",
    "<br><br>\n",
    "Below code prints the confusion matrix for classification model."
   ]
  },
  {
   "cell_type": "code",
   "execution_count": null,
   "id": "acc0f21a",
   "metadata": {},
   "outputs": [],
   "source": [
    "confusion_matrix(y_test, pred_result)\n",
    "c_m = pd.DataFrame(confusion_matrix(y_test, pred_result), columns= columns)\n",
    "c_m.index=columns\n",
    "c_m"
   ]
  },
  {
   "cell_type": "markdown",
   "id": "35130d7d",
   "metadata": {},
   "source": [
    "Save trained model."
   ]
  },
  {
   "cell_type": "code",
   "execution_count": null,
   "id": "da21db8d",
   "metadata": {},
   "outputs": [],
   "source": [
    "predictor.save(save_dir/\"model_distilbert\")"
   ]
  },
  {
   "cell_type": "code",
   "execution_count": null,
   "id": "3e01c52a",
   "metadata": {},
   "outputs": [],
   "source": []
  }
 ],
 "metadata": {
  "kernelspec": {
   "display_name": "env1",
   "language": "python",
   "name": "env1"
  },
  "language_info": {
   "codemirror_mode": {
    "name": "ipython",
    "version": 3
   },
   "file_extension": ".py",
   "mimetype": "text/x-python",
   "name": "python",
   "nbconvert_exporter": "python",
   "pygments_lexer": "ipython3",
   "version": "3.9.13"
  }
 },
 "nbformat": 4,
 "nbformat_minor": 5
}
