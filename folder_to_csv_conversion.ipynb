{
 "cells": [
  {
   "cell_type": "markdown",
   "id": "4fe9d590",
   "metadata": {},
   "source": [
    "#### Importing required libraries"
   ]
  },
  {
   "cell_type": "code",
   "execution_count": null,
   "id": "0df9e233",
   "metadata": {},
   "outputs": [],
   "source": [
    "import numpy as np\n",
    "import pandas as pd\n",
    "import os\n",
    "import json\n",
    "import dotenv\n",
    "import os\n",
    "from pathlib import Path\n",
    "from sklearn.model_selection import train_test_split"
   ]
  },
  {
   "cell_type": "markdown",
   "id": "e744bb05",
   "metadata": {},
   "source": [
    "#### Loading the files"
   ]
  },
  {
   "cell_type": "code",
   "execution_count": null,
   "id": "bce927e9",
   "metadata": {},
   "outputs": [],
   "source": [
    "dotenv.load_dotenv() \n",
    "input_dir = str(Path(os.getenv('raw_train_dir')))\n",
    "test_dir = str(Path(os.getenv('raw_test_dir'))\n",
    "save_dir_train  = path(os.getenv('csv_input_dir'))\n",
    "save_dir_test = path(os.getenv('test_input_dir'))"
   ]
  },
  {
   "cell_type": "code",
   "execution_count": null,
   "id": "724f6d9c",
   "metadata": {},
   "outputs": [],
   "source": [
    "train_dir = os.walk(input_dir)\n",
    "for d in train_dir:\n",
    "    train_labels = d[1]\n",
    "    break"
   ]
  },
  {
   "cell_type": "markdown",
   "id": "a692ea8a",
   "metadata": {},
   "source": [
    "#### conversion of file directory structure to csv "
   ]
  },
  {
   "cell_type": "markdown",
   "id": "4c130370",
   "metadata": {},
   "source": [
    "Below code converts the file structure of training data(the data that needs to be trained) into \"train_data\" dataframe. It reads each file in every folder and stores them in a dataframe. "
   ]
  },
  {
   "cell_type": "code",
   "execution_count": null,
   "id": "8e0ec805",
   "metadata": {},
   "outputs": [],
   "source": [
    "train_data = pd.DataFrame(columns=[\"ID\",\"Content\",\"Label\"])\n",
    "for label in train_labels: \n",
    "    for ID in os.listdir(input_dir +\"\\\\\"+label):\n",
    "        with open(str(input_dir)+\"\\\\\"+label+\"\\\\\"+ID, 'r',encoding=\"utf-8\") as f:\n",
    "            body = f.read()\n",
    "            train_data.loc[len(train_data.index)] = [ID]+ [body]+[label]\n"
   ]
  },
  {
   "cell_type": "markdown",
   "id": "9689705a",
   "metadata": {},
   "source": [
    "Below code converts the file structure of inference data(the data that needs to be run to get predictions from the model ) into \"test_data\" dataframe. It reads each file in every folder and stores them in a dataframe. "
   ]
  },
  {
   "cell_type": "code",
   "execution_count": null,
   "id": "2da02869",
   "metadata": {},
   "outputs": [],
   "source": [
    "test_data = pd.DataFrame(columns=[\"ID\",\"Content\"])\n",
    "for ID in os.listdir(test_dir):\n",
    "    with open(test_dir+\"\\\\\"+ID,'r',encoding = \"utf-8\") as f:\n",
    "        body = f.read()\n",
    "        test_data.loc[len(test_data.index)] = [ID]+[body]"
   ]
  },
  {
   "cell_type": "markdown",
   "id": "abf8d47c",
   "metadata": {},
   "source": [
    "#### saving files "
   ]
  },
  {
   "cell_type": "code",
   "execution_count": null,
   "id": "e002e306",
   "metadata": {},
   "outputs": [],
   "source": [
    "train_data.to_csv(save_dir_train/\"train_data.csv\")\n",
    "test_data.to_csv(save_dir_test/\"test_data.csv\")"
   ]
  }
 ],
 "metadata": {
  "kernelspec": {
   "display_name": "multi_label",
   "language": "python",
   "name": "multi_label"
  },
  "language_info": {
   "codemirror_mode": {
    "name": "ipython",
    "version": 3
   },
   "file_extension": ".py",
   "mimetype": "text/x-python",
   "name": "python",
   "nbconvert_exporter": "python",
   "pygments_lexer": "ipython3",
   "version": "3.9.13"
  }
 },
 "nbformat": 4,
 "nbformat_minor": 5
}
