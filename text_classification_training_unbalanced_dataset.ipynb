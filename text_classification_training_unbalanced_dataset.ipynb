{
 "cells": [
  {
   "cell_type": "markdown",
   "id": "d1625c44",
   "metadata": {},
   "source": [
    "# In this notebook, we have discussed implementing the Multiclass text classification with [Distilbert Model](https://arxiv.org/pdf/1910.01108.pdf) using [ktrain library](https://pypi.org/project/ktrain/)\n",
    "\n",
    "1.   Multiclass text classification: It is the problem of classifying text \n",
    "instances (documents/query/tickets) into one of three or more classes.\n",
    "<br> <br> Example: Classifying queries raised by bank customers into one of the relevant \n",
    "categories like loan related, credit card related, debit card related etc. \n",
    "<br><br> Note: Text classification is an example of supervised machine learning.\n",
    "\n",
    "\n",
    "2. Distilbert model: It is deep learning based general purpose language model. It is pretrained on large corpus on text data. \n",
    "\n",
    "3.   Ktrain is a lightweight wrapper for the deep learning library TensorFlow Keras (and other libraries) to help build, train, and deploy neural networks and other machine learning models.\n"
   ]
  },
  {
   "cell_type": "markdown",
   "id": "4e562f96",
   "metadata": {},
   "source": [
    "# Import required libraries"
   ]
  },
  {
   "cell_type": "code",
   "execution_count": 2,
   "id": "26f7407c",
   "metadata": {},
   "outputs": [],
   "source": [
    "import ktrain \n",
    "from ktrain import text\n",
    "import tensorflow as tf\n",
    "import pandas as pd\n",
    "import numpy as np\n",
    "from sklearn.metrics import classification_report\n",
    "from sklearn.metrics import confusion_matrix\n",
    "import dotenv\n",
    "import os\n",
    "from pathlib import Path\n",
    "pd.set_option(\"display.max_rows\", None)\n",
    "from sklearn.utils.class_weight import compute_class_weight\n",
    "from keras.callbacks import ModelCheckpoint, EarlyStopping"
   ]
  },
  {
   "cell_type": "markdown",
   "id": "becfa9a8",
   "metadata": {},
   "source": [
    "# In order to get reproducible results, set random seed. "
   ]
  },
  {
   "cell_type": "code",
   "execution_count": 3,
   "id": "37539d03",
   "metadata": {},
   "outputs": [],
   "source": [
    "def reset_random_seeds(seed=2):\n",
    "    os.environ['PYTHONHASHSEED']=str(seed)\n",
    "    tf.random.set_seed(seed)\n",
    "    np.random.seed(seed)\n",
    "    \n",
    "reset_random_seeds() "
   ]
  },
  {
   "cell_type": "markdown",
   "id": "20430491",
   "metadata": {},
   "source": [
    "Follow the link to enable GPU \n",
    "https://learnopencv.com/how-to-use-opencv-dnn-module-with-nvidia-gpu-on-windows/"
   ]
  },
  {
   "cell_type": "markdown",
   "id": "0654656b",
   "metadata": {},
   "source": [
    "# If GPU is available then below code will enable GPU to be used by model training, otherwise model will be trained on CPU. "
   ]
  },
  {
   "cell_type": "code",
   "execution_count": 4,
   "id": "8556aa23",
   "metadata": {},
   "outputs": [],
   "source": [
    "physical_devices = tf.config.list_physical_devices('GPU') \n",
    "if len(physical_devices)>0:\n",
    "  tf.config.experimental.set_memory_growth(physical_devices[0], True)"
   ]
  },
  {
   "cell_type": "markdown",
   "id": "7dc750e6",
   "metadata": {},
   "source": [
    "# Read the data that needs to get trained"
   ]
  },
  {
   "cell_type": "code",
   "execution_count": 5,
   "id": "ad5fde00",
   "metadata": {},
   "outputs": [],
   "source": [
    "dotenv.load_dotenv() \n",
    "train_str = \"train_data.csv\"\n",
    "data_dir = Path(os.getenv('csv_input_dir'))  \n",
    "save_dir = Path(os.getenv('output_model_dir'))\n",
    "\n",
    "train_data = pd.read_csv(data_dir/train_str,index_col =0)"
   ]
  },
  {
   "cell_type": "code",
   "execution_count": 6,
   "id": "41d2d5a4",
   "metadata": {},
   "outputs": [],
   "source": [
    "Column_names = set(train_data[\"Label\"])"
   ]
  },
  {
   "cell_type": "code",
   "execution_count": 7,
   "id": "b947b50a",
   "metadata": {},
   "outputs": [],
   "source": [
    "columns = list(Column_names)"
   ]
  },
  {
   "cell_type": "code",
   "execution_count": 8,
   "id": "5b7c428b",
   "metadata": {},
   "outputs": [
    {
     "data": {
      "text/plain": [
       "['Field Services - Flint MI',\n",
       " 'Data Analysis and Reporting',\n",
       " 'Service Desk - Enterprise Tier - 3',\n",
       " 'PA Harrisburg - IT',\n",
       " 'Field Services - El Paso TX - Fed',\n",
       " 'Cloud Computing Services - Windows',\n",
       " 'Service Desk - Enterprise',\n",
       " 'Telephony Provisioning',\n",
       " 'Premier Services - Enterprise',\n",
       " 'LSA - Federal',\n",
       " 'LSA - Sandy UT',\n",
       " 'SharePoint',\n",
       " 'Field Services - FEMA Call Centers',\n",
       " 'Field Services - Memphis',\n",
       " 'Cherwell Admins',\n",
       " 'ISO - Physical Security',\n",
       " 'Field Services - Boston',\n",
       " 'LSA - Hattiesburg MS',\n",
       " 'Federal CE Solutions',\n",
       " 'Field Services - Chicago, IL Wacker',\n",
       " 'MECM Admin',\n",
       " 'CA FSS Application Support',\n",
       " 'Lansweeper Group',\n",
       " 'Field Services - Chicago Wabash ILCSE',\n",
       " 'Field Services - Winchester KY - CCO - Fed',\n",
       " 'ISO - Threat and Vulnerability',\n",
       " 'Messaging',\n",
       " 'Field Services - Milwaukee',\n",
       " 'Field Services - AidVantage',\n",
       " 'LSA - Brownsville TX',\n",
       " 'Database',\n",
       " 'ERP - Back Office',\n",
       " 'Field Services - Lynn Haven FL\\xa0- CCO -Fed',\n",
       " 'Field Services - Brownsville - Fed - Boca Chica',\n",
       " 'Field Services - Contact Tracing',\n",
       " 'Field Services - INEO',\n",
       " 'ITNM - Network Operations',\n",
       " 'TCES Tax Credit Employer Services',\n",
       " 'Service Desk - Enterprise Tier - 2',\n",
       " 'Data Center Services',\n",
       " 'Field Services - Frederick/DC - Fed - DMCS',\n",
       " 'Field Services - Richmond VA - Cover VA',\n",
       " 'Field Services - Indiana EB',\n",
       " 'Desktop Services - Corp HQ/Fed HQ - Tysons',\n",
       " 'Cloud Engineer',\n",
       " 'Automated Process - Do not assign Tickets',\n",
       " 'Field Services - Sandy UT - CCO - Fed',\n",
       " 'ISO - Identity and Access Management',\n",
       " 'Service Desk - Enterprise Tier - 1',\n",
       " 'VDI - Operations',\n",
       " 'Patching - Windows Desktop',\n",
       " 'Telephony Break Fix',\n",
       " 'Field Services - Unemployment Insurance',\n",
       " 'Cloud Computing Services - Virtualization',\n",
       " 'Field Services - OKC',\n",
       " 'Field Services - Hattiesburg MS - CCO - Fed',\n",
       " 'Field Services - Ft Pierce',\n",
       " 'CCO Business Systems and Data Analytics',\n",
       " 'AP - Expense',\n",
       " 'Software Governance',\n",
       " 'Field Services - CA Folsom',\n",
       " 'Enterprise Incident Mgmt - Server Decommission',\n",
       " 'Field Services - NYSOH Albany T2',\n",
       " 'Field Services - CDC INFO Call Centers',\n",
       " 'Field Services - IRS SPSC Call Center',\n",
       " 'Clinical Services - IT Ops',\n",
       " 'Field Services - Overwatch',\n",
       " 'CA HCO Project – Systems Engineer',\n",
       " 'Field Services - Brownsville - Fed - DMCS',\n",
       " 'Enterprise Incident Mgmt',\n",
       " 'MAXe NYEB - Operations Systems',\n",
       " 'Field Services - CDC VAX Call Center',\n",
       " 'Field Services - MIA - Fed',\n",
       " 'Desktop Services - Alexandria - Fed - USPTO',\n",
       " 'LSA - Phoenix AZ',\n",
       " 'LSA - Winchester KY',\n",
       " 'Clinical Services - Dev',\n",
       " 'Field Services - NYC Back to Work',\n",
       " 'Field Services - CA Rancho Cordova',\n",
       " 'Cloud Solutions Delivery - AWS',\n",
       " 'Genesys Support Team',\n",
       " 'Cloud Computing Services - AWS',\n",
       " 'Field Services - Brownsville - Fed - eRate',\n",
       " 'EDI Services',\n",
       " 'ISO - Security Architecture',\n",
       " 'Field Services - Baltimore Fed - ERate',\n",
       " 'Field Services - FSA 6C Cleared Support',\n",
       " 'IT Asset Management',\n",
       " 'Field Services - Hampton SOA',\n",
       " 'Field Services - Lawrence KS - CCO - Fed',\n",
       " 'LSA-Lawrence KS',\n",
       " 'Field Services - MO MIDM',\n",
       " 'Facilities - Rancho Cordova',\n",
       " 'Field Services - Richmond VA EB',\n",
       " 'Field Services - BCS',\n",
       " 'Field Services - East Lansing MI',\n",
       " 'ITNM - Network Delivery',\n",
       " 'NYSOH Systems Production Support',\n",
       " 'MAXe NCEB - Dev Systems',\n",
       " 'Endpoint Software Delivery',\n",
       " 'Batch Operations Team',\n",
       " 'Service Desk - Albany',\n",
       " 'Document Management - Imaging',\n",
       " 'Field Services - Baltimore MDHIX',\n",
       " 'CA FSS Maxe Support',\n",
       " 'Field Services - NYSOH T3',\n",
       " 'Patching - Unix Servers',\n",
       " 'Field Services - Pharr Fed',\n",
       " 'Cloud Computing Services - UNIX',\n",
       " 'Field Services - NYSOH Rochester T2',\n",
       " 'Knowledge Management',\n",
       " 'Corporate Provisioning',\n",
       " 'Performance Engineering',\n",
       " 'Telephony Delivery',\n",
       " 'TXEB Systems',\n",
       " 'Service Delivery Management',\n",
       " 'Field Services - Franklin TN',\n",
       " 'LSA - London KY',\n",
       " 'IT PgMO',\n",
       " 'Facilities - Hampton SOA',\n",
       " 'Field Services - NYSS New York City',\n",
       " 'Telephony - Albany',\n",
       " 'Field Services - Chester VA - CCO - Fed',\n",
       " 'Enterprise Incident Mgmt - Alert Response',\n",
       " 'Field Services - Riverview FL - CCO - Fed',\n",
       " 'Field Services - Phoenix AZ - CCO - Fed',\n",
       " 'Field Services - Pittsford - Fed',\n",
       " 'Patching - Windows Servers',\n",
       " 'ISO - Security Operations',\n",
       " 'BSP',\n",
       " 'Application Administration',\n",
       " 'ACA CCO Account Support',\n",
       " 'CCO Engineering Team',\n",
       " 'EDP - Enterprise Data Protection',\n",
       " 'Enterprise Directory Services',\n",
       " 'Pittston PA - EACMS Apps',\n",
       " 'Field Services - London KY - CCO- Fed',\n",
       " 'Field Services - Jacksonville FL DMCS Fed',\n",
       " 'LSA - Tampa FL',\n",
       " 'Desktop Services - Corporate - Eagan',\n",
       " 'Field Services - KS Child Support',\n",
       " 'LSA - Lynn Haven FL',\n",
       " 'Field Services - Pittston - Fed - EAOS',\n",
       " 'Field Services - CA Fed',\n",
       " 'ISO - Exceptions',\n",
       " 'Telecom Legacy GDIT AVAYA',\n",
       " 'LSA - Chester VA',\n",
       " 'Field Services - Tampa FL - CCO - Fed',\n",
       " 'Consulting - Human PMC Projects',\n",
       " 'CCO Training Applications',\n",
       " 'Field Services - Brownsville - Fed',\n",
       " 'LSA - Bogalusa LA',\n",
       " 'Field Services - Bogalusa LA - CCO - Fed',\n",
       " 'Field Services - Greenville - Fed - DMCS',\n",
       " 'Field Services - Augusta ME',\n",
       " 'SCM Admins',\n",
       " 'Field Services - Baltimore',\n",
       " 'Field Services - IMA']"
      ]
     },
     "execution_count": 8,
     "metadata": {},
     "output_type": "execute_result"
    }
   ],
   "source": [
    "columns"
   ]
  },
  {
   "cell_type": "markdown",
   "id": "fcbd7269",
   "metadata": {},
   "source": [
    "In order to pass equal amount of rows related to each tag to train and validation set, shuffle the data."
   ]
  },
  {
   "cell_type": "code",
   "execution_count": 9,
   "id": "81e34e42",
   "metadata": {},
   "outputs": [
    {
     "ename": "KeyError",
     "evalue": "\"['index'] not found in axis\"",
     "output_type": "error",
     "traceback": [
      "\u001b[1;31m---------------------------------------------------------------------------\u001b[0m",
      "\u001b[1;31mKeyError\u001b[0m                                  Traceback (most recent call last)",
      "\u001b[1;32m~\\AppData\\Local\\Temp\\ipykernel_32240\\1843092382.py\u001b[0m in \u001b[0;36m<module>\u001b[1;34m\u001b[0m\n\u001b[0;32m      1\u001b[0m \u001b[0mtrain_data\u001b[0m \u001b[1;33m=\u001b[0m \u001b[0mtrain_data\u001b[0m\u001b[1;33m.\u001b[0m\u001b[0msample\u001b[0m\u001b[1;33m(\u001b[0m\u001b[0mfrac\u001b[0m \u001b[1;33m=\u001b[0m \u001b[1;36m1\u001b[0m\u001b[1;33m)\u001b[0m\u001b[1;33m.\u001b[0m\u001b[0mreset_index\u001b[0m\u001b[1;33m(\u001b[0m\u001b[1;33m)\u001b[0m\u001b[1;33m\u001b[0m\u001b[1;33m\u001b[0m\u001b[0m\n\u001b[1;32m----> 2\u001b[1;33m \u001b[0mtrain_data\u001b[0m\u001b[1;33m.\u001b[0m\u001b[0mdrop\u001b[0m\u001b[1;33m(\u001b[0m\u001b[1;33m[\u001b[0m\u001b[1;34m\"index\"\u001b[0m\u001b[1;33m]\u001b[0m\u001b[1;33m,\u001b[0m\u001b[0minplace\u001b[0m\u001b[1;33m=\u001b[0m\u001b[1;32mTrue\u001b[0m\u001b[1;33m,\u001b[0m\u001b[0maxis\u001b[0m\u001b[1;33m=\u001b[0m\u001b[1;36m1\u001b[0m\u001b[1;33m)\u001b[0m\u001b[1;33m\u001b[0m\u001b[1;33m\u001b[0m\u001b[0m\n\u001b[0m",
      "\u001b[1;32m~\\New folder\\lib\\site-packages\\pandas\\util\\_decorators.py\u001b[0m in \u001b[0;36mwrapper\u001b[1;34m(*args, **kwargs)\u001b[0m\n\u001b[0;32m    309\u001b[0m                     \u001b[0mstacklevel\u001b[0m\u001b[1;33m=\u001b[0m\u001b[0mstacklevel\u001b[0m\u001b[1;33m,\u001b[0m\u001b[1;33m\u001b[0m\u001b[1;33m\u001b[0m\u001b[0m\n\u001b[0;32m    310\u001b[0m                 )\n\u001b[1;32m--> 311\u001b[1;33m             \u001b[1;32mreturn\u001b[0m \u001b[0mfunc\u001b[0m\u001b[1;33m(\u001b[0m\u001b[1;33m*\u001b[0m\u001b[0margs\u001b[0m\u001b[1;33m,\u001b[0m \u001b[1;33m**\u001b[0m\u001b[0mkwargs\u001b[0m\u001b[1;33m)\u001b[0m\u001b[1;33m\u001b[0m\u001b[1;33m\u001b[0m\u001b[0m\n\u001b[0m\u001b[0;32m    312\u001b[0m \u001b[1;33m\u001b[0m\u001b[0m\n\u001b[0;32m    313\u001b[0m         \u001b[1;32mreturn\u001b[0m \u001b[0mwrapper\u001b[0m\u001b[1;33m\u001b[0m\u001b[1;33m\u001b[0m\u001b[0m\n",
      "\u001b[1;32m~\\New folder\\lib\\site-packages\\pandas\\core\\frame.py\u001b[0m in \u001b[0;36mdrop\u001b[1;34m(self, labels, axis, index, columns, level, inplace, errors)\u001b[0m\n\u001b[0;32m   4955\u001b[0m                 \u001b[0mweight\u001b[0m  \u001b[1;36m1.0\u001b[0m     \u001b[1;36m0.8\u001b[0m\u001b[1;33m\u001b[0m\u001b[1;33m\u001b[0m\u001b[0m\n\u001b[0;32m   4956\u001b[0m         \"\"\"\n\u001b[1;32m-> 4957\u001b[1;33m         return super().drop(\n\u001b[0m\u001b[0;32m   4958\u001b[0m             \u001b[0mlabels\u001b[0m\u001b[1;33m=\u001b[0m\u001b[0mlabels\u001b[0m\u001b[1;33m,\u001b[0m\u001b[1;33m\u001b[0m\u001b[1;33m\u001b[0m\u001b[0m\n\u001b[0;32m   4959\u001b[0m             \u001b[0maxis\u001b[0m\u001b[1;33m=\u001b[0m\u001b[0maxis\u001b[0m\u001b[1;33m,\u001b[0m\u001b[1;33m\u001b[0m\u001b[1;33m\u001b[0m\u001b[0m\n",
      "\u001b[1;32m~\\New folder\\lib\\site-packages\\pandas\\core\\generic.py\u001b[0m in \u001b[0;36mdrop\u001b[1;34m(self, labels, axis, index, columns, level, inplace, errors)\u001b[0m\n\u001b[0;32m   4265\u001b[0m         \u001b[1;32mfor\u001b[0m \u001b[0maxis\u001b[0m\u001b[1;33m,\u001b[0m \u001b[0mlabels\u001b[0m \u001b[1;32min\u001b[0m \u001b[0maxes\u001b[0m\u001b[1;33m.\u001b[0m\u001b[0mitems\u001b[0m\u001b[1;33m(\u001b[0m\u001b[1;33m)\u001b[0m\u001b[1;33m:\u001b[0m\u001b[1;33m\u001b[0m\u001b[1;33m\u001b[0m\u001b[0m\n\u001b[0;32m   4266\u001b[0m             \u001b[1;32mif\u001b[0m \u001b[0mlabels\u001b[0m \u001b[1;32mis\u001b[0m \u001b[1;32mnot\u001b[0m \u001b[1;32mNone\u001b[0m\u001b[1;33m:\u001b[0m\u001b[1;33m\u001b[0m\u001b[1;33m\u001b[0m\u001b[0m\n\u001b[1;32m-> 4267\u001b[1;33m                 \u001b[0mobj\u001b[0m \u001b[1;33m=\u001b[0m \u001b[0mobj\u001b[0m\u001b[1;33m.\u001b[0m\u001b[0m_drop_axis\u001b[0m\u001b[1;33m(\u001b[0m\u001b[0mlabels\u001b[0m\u001b[1;33m,\u001b[0m \u001b[0maxis\u001b[0m\u001b[1;33m,\u001b[0m \u001b[0mlevel\u001b[0m\u001b[1;33m=\u001b[0m\u001b[0mlevel\u001b[0m\u001b[1;33m,\u001b[0m \u001b[0merrors\u001b[0m\u001b[1;33m=\u001b[0m\u001b[0merrors\u001b[0m\u001b[1;33m)\u001b[0m\u001b[1;33m\u001b[0m\u001b[1;33m\u001b[0m\u001b[0m\n\u001b[0m\u001b[0;32m   4268\u001b[0m \u001b[1;33m\u001b[0m\u001b[0m\n\u001b[0;32m   4269\u001b[0m         \u001b[1;32mif\u001b[0m \u001b[0minplace\u001b[0m\u001b[1;33m:\u001b[0m\u001b[1;33m\u001b[0m\u001b[1;33m\u001b[0m\u001b[0m\n",
      "\u001b[1;32m~\\New folder\\lib\\site-packages\\pandas\\core\\generic.py\u001b[0m in \u001b[0;36m_drop_axis\u001b[1;34m(self, labels, axis, level, errors, consolidate, only_slice)\u001b[0m\n\u001b[0;32m   4309\u001b[0m                 \u001b[0mnew_axis\u001b[0m \u001b[1;33m=\u001b[0m \u001b[0maxis\u001b[0m\u001b[1;33m.\u001b[0m\u001b[0mdrop\u001b[0m\u001b[1;33m(\u001b[0m\u001b[0mlabels\u001b[0m\u001b[1;33m,\u001b[0m \u001b[0mlevel\u001b[0m\u001b[1;33m=\u001b[0m\u001b[0mlevel\u001b[0m\u001b[1;33m,\u001b[0m \u001b[0merrors\u001b[0m\u001b[1;33m=\u001b[0m\u001b[0merrors\u001b[0m\u001b[1;33m)\u001b[0m\u001b[1;33m\u001b[0m\u001b[1;33m\u001b[0m\u001b[0m\n\u001b[0;32m   4310\u001b[0m             \u001b[1;32melse\u001b[0m\u001b[1;33m:\u001b[0m\u001b[1;33m\u001b[0m\u001b[1;33m\u001b[0m\u001b[0m\n\u001b[1;32m-> 4311\u001b[1;33m                 \u001b[0mnew_axis\u001b[0m \u001b[1;33m=\u001b[0m \u001b[0maxis\u001b[0m\u001b[1;33m.\u001b[0m\u001b[0mdrop\u001b[0m\u001b[1;33m(\u001b[0m\u001b[0mlabels\u001b[0m\u001b[1;33m,\u001b[0m \u001b[0merrors\u001b[0m\u001b[1;33m=\u001b[0m\u001b[0merrors\u001b[0m\u001b[1;33m)\u001b[0m\u001b[1;33m\u001b[0m\u001b[1;33m\u001b[0m\u001b[0m\n\u001b[0m\u001b[0;32m   4312\u001b[0m             \u001b[0mindexer\u001b[0m \u001b[1;33m=\u001b[0m \u001b[0maxis\u001b[0m\u001b[1;33m.\u001b[0m\u001b[0mget_indexer\u001b[0m\u001b[1;33m(\u001b[0m\u001b[0mnew_axis\u001b[0m\u001b[1;33m)\u001b[0m\u001b[1;33m\u001b[0m\u001b[1;33m\u001b[0m\u001b[0m\n\u001b[0;32m   4313\u001b[0m \u001b[1;33m\u001b[0m\u001b[0m\n",
      "\u001b[1;32m~\\New folder\\lib\\site-packages\\pandas\\core\\indexes\\base.py\u001b[0m in \u001b[0;36mdrop\u001b[1;34m(self, labels, errors)\u001b[0m\n\u001b[0;32m   6659\u001b[0m         \u001b[1;32mif\u001b[0m \u001b[0mmask\u001b[0m\u001b[1;33m.\u001b[0m\u001b[0many\u001b[0m\u001b[1;33m(\u001b[0m\u001b[1;33m)\u001b[0m\u001b[1;33m:\u001b[0m\u001b[1;33m\u001b[0m\u001b[1;33m\u001b[0m\u001b[0m\n\u001b[0;32m   6660\u001b[0m             \u001b[1;32mif\u001b[0m \u001b[0merrors\u001b[0m \u001b[1;33m!=\u001b[0m \u001b[1;34m\"ignore\"\u001b[0m\u001b[1;33m:\u001b[0m\u001b[1;33m\u001b[0m\u001b[1;33m\u001b[0m\u001b[0m\n\u001b[1;32m-> 6661\u001b[1;33m                 \u001b[1;32mraise\u001b[0m \u001b[0mKeyError\u001b[0m\u001b[1;33m(\u001b[0m\u001b[1;34mf\"{list(labels[mask])} not found in axis\"\u001b[0m\u001b[1;33m)\u001b[0m\u001b[1;33m\u001b[0m\u001b[1;33m\u001b[0m\u001b[0m\n\u001b[0m\u001b[0;32m   6662\u001b[0m             \u001b[0mindexer\u001b[0m \u001b[1;33m=\u001b[0m \u001b[0mindexer\u001b[0m\u001b[1;33m[\u001b[0m\u001b[1;33m~\u001b[0m\u001b[0mmask\u001b[0m\u001b[1;33m]\u001b[0m\u001b[1;33m\u001b[0m\u001b[1;33m\u001b[0m\u001b[0m\n\u001b[0;32m   6663\u001b[0m         \u001b[1;32mreturn\u001b[0m \u001b[0mself\u001b[0m\u001b[1;33m.\u001b[0m\u001b[0mdelete\u001b[0m\u001b[1;33m(\u001b[0m\u001b[0mindexer\u001b[0m\u001b[1;33m)\u001b[0m\u001b[1;33m\u001b[0m\u001b[1;33m\u001b[0m\u001b[0m\n",
      "\u001b[1;31mKeyError\u001b[0m: \"['index'] not found in axis\""
     ]
    }
   ],
   "source": [
    "train_data = train_data.sample(frac = 1).reset_index()\n",
    "train_data.drop([\"index\"],inplace=True,axis=1)"
   ]
  },
  {
   "cell_type": "markdown",
   "id": "ea20f68b",
   "metadata": {},
   "source": [
    "The input data(training data) is divided into train and test(can also be called as validation data) in the ratio 80:20 respectively.\n",
    "    This is done to evaluate the performence of the model that is trained."
   ]
  },
  {
   "cell_type": "code",
   "execution_count": 11,
   "id": "4894a263",
   "metadata": {},
   "outputs": [
    {
     "name": "stdout",
     "output_type": "stream",
     "text": [
      "Train size: 101729\n",
      "Test size: 25433\n"
     ]
    }
   ],
   "source": [
    "train_size = int(len(train_data) * .8)\n",
    "print (\"Train size: %d\" % train_size)\n",
    "print (\"Test size: %d\" % (len(train_data) - train_size))\n",
    "\n",
    "# Train features\n",
    "description_train = train_data['Content'][:train_size]\n",
    "\n",
    "# Train labels\n",
    "labels_train = train_data['Label'][:train_size]\n",
    "\n",
    "# Test features\n",
    "description_test = train_data['Content'][train_size:]\n",
    "\n",
    "# Test labels\n",
    "labels_test = train_data['Label'][train_size:]"
   ]
  },
  {
   "cell_type": "markdown",
   "id": "e9e88304",
   "metadata": {},
   "source": [
    "converting the above series objects to 1-D array in order to fit them in KTrain processor"
   ]
  },
  {
   "cell_type": "code",
   "execution_count": 12,
   "id": "5e5d29f4",
   "metadata": {},
   "outputs": [],
   "source": [
    "x_train = description_train.values\n",
    "y_train = labels_train.values\n",
    "x_test = description_test.values\n",
    "y_test = labels_test.values"
   ]
  },
  {
   "cell_type": "code",
   "execution_count": 13,
   "id": "5e6eb724",
   "metadata": {},
   "outputs": [
    {
     "data": {
      "text/plain": [
       "array(['Field Services - FEMA Call Centers', 'CCO Training Applications',\n",
       "       'Service Desk - Enterprise Tier - 2', ..., 'ERP - Back Office',\n",
       "       'LSA - London KY', 'Field Services - Baltimore Fed - ERate'],\n",
       "      dtype=object)"
      ]
     },
     "execution_count": 13,
     "metadata": {},
     "output_type": "execute_result"
    }
   ],
   "source": [
    "y_train"
   ]
  },
  {
   "cell_type": "markdown",
   "id": "9a9205d7",
   "metadata": {},
   "source": [
    "# Loads and preprocess text data from array by text module of ktrain."
   ]
  },
  {
   "cell_type": "markdown",
   "id": "27249b56",
   "metadata": {},
   "source": [
    "KTrain \"texts_from_array\" is a source that can load texts and associated labels that are in array form"
   ]
  },
  {
   "cell_type": "code",
   "execution_count": 14,
   "id": "494d504a",
   "metadata": {},
   "outputs": [
    {
     "name": "stdout",
     "output_type": "stream",
     "text": [
      "preprocessing train...\n",
      "language: en\n",
      "train sequence lengths:\n",
      "\tmean : 13\n",
      "\t95percentile : 25\n",
      "\t99percentile : 33\n"
     ]
    },
    {
     "data": {
      "text/html": [
       "\n",
       "<style>\n",
       "    /* Turns off some styling */\n",
       "    progress {\n",
       "        /* gets rid of default border in Firefox and Opera. */\n",
       "        border: none;\n",
       "        /* Needs to be in here for Safari polyfill so background images work as expected. */\n",
       "        background-size: auto;\n",
       "    }\n",
       "    progress:not([value]), progress:not([value])::-webkit-progress-bar {\n",
       "        background: repeating-linear-gradient(45deg, #7e7e7e, #7e7e7e 10px, #5c5c5c 10px, #5c5c5c 20px);\n",
       "    }\n",
       "    .progress-bar-interrupted, .progress-bar-interrupted::-webkit-progress-bar {\n",
       "        background: #F44336;\n",
       "    }\n",
       "</style>\n"
      ],
      "text/plain": [
       "<IPython.core.display.HTML object>"
      ]
     },
     "metadata": {},
     "output_type": "display_data"
    },
    {
     "data": {
      "text/html": [],
      "text/plain": [
       "<IPython.core.display.HTML object>"
      ]
     },
     "metadata": {},
     "output_type": "display_data"
    },
    {
     "name": "stdout",
     "output_type": "stream",
     "text": [
      "Is Multi-Label? False\n",
      "preprocessing test...\n",
      "language: en\n",
      "test sequence lengths:\n",
      "\tmean : 13\n",
      "\t95percentile : 25\n",
      "\t99percentile : 33\n"
     ]
    },
    {
     "data": {
      "text/html": [
       "\n",
       "<style>\n",
       "    /* Turns off some styling */\n",
       "    progress {\n",
       "        /* gets rid of default border in Firefox and Opera. */\n",
       "        border: none;\n",
       "        /* Needs to be in here for Safari polyfill so background images work as expected. */\n",
       "        background-size: auto;\n",
       "    }\n",
       "    progress:not([value]), progress:not([value])::-webkit-progress-bar {\n",
       "        background: repeating-linear-gradient(45deg, #7e7e7e, #7e7e7e 10px, #5c5c5c 10px, #5c5c5c 20px);\n",
       "    }\n",
       "    .progress-bar-interrupted, .progress-bar-interrupted::-webkit-progress-bar {\n",
       "        background: #F44336;\n",
       "    }\n",
       "</style>\n"
      ],
      "text/plain": [
       "<IPython.core.display.HTML object>"
      ]
     },
     "metadata": {},
     "output_type": "display_data"
    },
    {
     "data": {
      "text/html": [],
      "text/plain": [
       "<IPython.core.display.HTML object>"
      ]
     },
     "metadata": {},
     "output_type": "display_data"
    },
    {
     "name": "stdout",
     "output_type": "stream",
     "text": [
      "task: text classification\n"
     ]
    }
   ],
   "source": [
    "trn, val, preproc = text.texts_from_array(x_train=x_train, y_train=y_train,\n",
    "                                          x_test=x_test, y_test=y_test,\n",
    "                                          ngram_range=3, \n",
    "                                          maxlen=200, \n",
    "                                          preprocess_mode='distilbert',\n",
    "                                          max_features=35000)"
   ]
  },
  {
   "cell_type": "markdown",
   "id": "32b6dfad",
   "metadata": {},
   "source": [
    "Download pre-trained distilbert model for transfer learning."
   ]
  },
  {
   "cell_type": "code",
   "execution_count": 15,
   "id": "cb30c57a",
   "metadata": {},
   "outputs": [
    {
     "name": "stdout",
     "output_type": "stream",
     "text": [
      "Is Multi-Label? False\n",
      "maxlen is 200\n",
      "done.\n"
     ]
    }
   ],
   "source": [
    "model = text.text_classifier('distilbert', train_data=trn, preproc=preproc)"
   ]
  },
  {
   "cell_type": "code",
   "execution_count": 16,
   "id": "05259dbb",
   "metadata": {},
   "outputs": [],
   "source": [
    "train_labels = train_data.Label"
   ]
  },
  {
   "cell_type": "code",
   "execution_count": 17,
   "id": "22ee3807",
   "metadata": {},
   "outputs": [
    {
     "name": "stdout",
     "output_type": "stream",
     "text": [
      "{0: 0.5365485232067511, 1: 0.5365485232067511, 2: 0.5365485232067511, 3: 0.5365485232067511, 4: 14.371835443037975, 5: 14.119697979125029, 6: 1.7572549886683986, 7: 2.579560207724765, 8: 2.424165014488333, 9: 0.5365485232067511, 10: 4.258321612751993, 11: 0.5365485232067511, 12: 0.5365485232067511, 13: 12.194284618335251, 14: 1.0047725153684477, 15: 7.521708269253519, 16: 2.9480688088283027, 17: 12.774964838255977, 18: 8.654008438818565, 19: 12.012280370300397, 20: 2.2171426578791364, 21: 14.904125644631973, 22: 0.5365485232067511, 23: 1.884830877775472, 24: 13.876254910519425, 25: 0.5365485232067511, 26: 12.381888997078871, 27: 0.9053124688527858, 28: 0.6808991411253186, 29: 0.9627066803948883, 30: 0.5365485232067511, 31: 2.5631298879303395, 32: 0.5365485232067511, 33: 1.3617982822506371, 34: 0.5365485232067511, 35: 0.9457377024795847, 36: 0.7806234576237892, 37: 5.437991789257612, 38: 15.185335562455219, 39: 1.9774515597300408, 40: 3.7088607594936707, 41: 0.5365485232067511, 42: 1.08320697821013, 43: 5.667766090212159, 44: 10.060284810126582, 45: 1.6259046157780335, 46: 3.1074238795757783, 47: 0.5365485232067511, 48: 0.5365485232067511, 49: 0.5365485232067511, 50: 5.0617785208184065, 51: 0.5365485232067511, 52: 0.9094042766216119, 53: 1.1131712099725126, 54: 0.8418648376674964, 55: 0.5365485232067511, 56: 2.4917114080808873, 57: 0.9053124688527858, 58: 0.5365485232067511, 59: 2.1404861298141666, 60: 5.365485232067511, 61: 1.2815649439651697, 62: 1.9872167526175966, 63: 10.589773484343771, 64: 0.9936083763087983, 65: 2.2171426578791364, 66: 6.1909444985394355, 67: 1.2674374563939002, 68: 1.5968706047819972, 69: 0.7424564435517773, 70: 0.932587236164689, 71: 1.3664223850766155, 72: 0.5365485232067511, 73: 1.0745297527505029, 74: 14.904125644631973, 75: 5.628131362308578, 76: 7.738680623174294, 77: 0.5365485232067511, 78: 1.9393320115906665, 79: 0.5365485232067511, 80: 0.5365485232067511, 81: 0.5365485232067511, 82: 13.64106414932418, 83: 1.1399756158783663, 84: 0.8691390764688192, 85: 1.5937084847725278, 86: 3.778510726808106, 87: 0.5365485232067511, 88: 0.5365485232067511, 89: 3.832489451476793, 90: 0.5365485232067511, 91: 0.8719640138787937, 92: 0.5365485232067511, 93: 0.5365485232067511, 94: 0.5365485232067511, 95: 0.5365485232067511, 96: 0.5365485232067511, 97: 0.5365485232067511, 98: 2.27351069155403, 99: 0.5365485232067511, 100: 2.063648166179812, 101: 0.8008186913533598, 102: 3.850826721579553, 103: 0.58026156078596, 104: 0.5365485232067511, 105: 7.813813444758511, 106: 1.1888076585083112, 107: 1.84592381837185, 108: 8.048227848101266, 109: 0.5365485232067511, 110: 0.8113132911392406, 111: 0.5365485232067511, 112: 7.89041945892281, 113: 8.844206426484908, 114: 1.0774066731059257, 115: 9.042952638316029, 116: 0.5365485232067511, 117: 0.5365485232067511, 118: 0.5365485232067511, 119: 7.1859177215189876, 120: 0.5365485232067511, 121: 0.5365485232067511, 122: 0.5365485232067511, 123: 0.5365485232067511, 124: 1.1749237734454403, 125: 0.5365485232067511, 126: 0.5550501964207769, 127: 0.5365485232067511, 128: 3.6582853855005752, 129: 16.096455696202533, 130: 0.5365485232067511, 131: 3.561162764646578, 132: 0.6968162639048715, 133: 9.936083763087982, 134: 0.5365485232067511, 135: 10.875983578515225, 136: 0.791369503254795, 137: 1.6358186683132654, 138: 4.127296332359624, 139: 1.1715033257789325, 140: 15.78083891784562, 141: 6.097142309167626, 142: 6.9984589983489265, 143: 0.5365485232067511, 144: 1.364106414932418, 145: 0.5365485232067511, 146: 0.5365485232067511, 147: 0.5823609152026965, 148: 0.9684991393623665, 149: 1.9921356059656599, 150: 0.6387482419127989, 151: 0.6673489094611331, 152: 0.89127661662251, 153: 1.2734537734337446, 154: 1.7964794303797469, 155: 11.02496965493324, 156: 2.1461940928270042, 157: 0.5365485232067511}\n"
     ]
    }
   ],
   "source": [
    "class_weights = compute_class_weight(class_weight = \"balanced\", classes= np.unique(train_labels), y= train_labels)\n",
    "\n",
    "\n",
    "weights={}\n",
    "for index, weight in enumerate(class_weights) :\n",
    "  weights[index]=weight\n",
    "\n",
    "print(weights)\n",
    "\n"
   ]
  },
  {
   "cell_type": "code",
   "execution_count": null,
   "id": "ee1b5d28",
   "metadata": {},
   "outputs": [
    {
     "name": "stdout",
     "output_type": "stream",
     "text": [
      "\n",
      "\n",
      "begin training using triangular learning rate policy with max lr of 2e-05...\n",
      "Epoch 1/32\n",
      "  126/16955 [..............................] - ETA: 11:20:10 - loss: 4.9693 - accuracy: 0.0053"
     ]
    }
   ],
   "source": [
    "learner =  ktrain.get_learner(model, train_data=trn, val_data=val,batch_size=6)\n",
    "\n",
    "# you can find the learning rate\n",
    "#learner.lr_find(show_plot=True,max_epochs=5)\n",
    "\n",
    "# you can use the learning rate obtained and run for 32 epochs\n",
    "learner.autofit(2e-5, 32,class_weight = weights,callbacks=[EarlyStopping(monitor='val_loss', patience=5, min_delta=0.0001)])"
   ]
  },
  {
   "cell_type": "markdown",
   "id": "989ce855",
   "metadata": {},
   "source": [
    "Print the summary of the model."
   ]
  },
  {
   "cell_type": "code",
   "execution_count": 17,
   "id": "b1013e20",
   "metadata": {},
   "outputs": [
    {
     "name": "stdout",
     "output_type": "stream",
     "text": [
      "Model: \"tf_distil_bert_for_sequence_classification\"\n",
      "_________________________________________________________________\n",
      " Layer (type)                Output Shape              Param #   \n",
      "=================================================================\n",
      " distilbert (TFDistilBertMai  multiple                 66362880  \n",
      " nLayer)                                                         \n",
      "                                                                 \n",
      " pre_classifier (Dense)      multiple                  590592    \n",
      "                                                                 \n",
      " classifier (Dense)          multiple                  121502    \n",
      "                                                                 \n",
      " dropout_19 (Dropout)        multiple                  0         \n",
      "                                                                 \n",
      "=================================================================\n",
      "Total params: 67,074,974\n",
      "Trainable params: 67,074,974\n",
      "Non-trainable params: 0\n",
      "_________________________________________________________________\n"
     ]
    }
   ],
   "source": [
    "model.summary()"
   ]
  },
  {
   "cell_type": "markdown",
   "id": "2c5abb96",
   "metadata": {},
   "source": [
    "# Test model on test data and calculate evaluation metrics."
   ]
  },
  {
   "cell_type": "code",
   "execution_count": null,
   "id": "3f772892",
   "metadata": {},
   "outputs": [],
   "source": [
    "predictor = ktrain.get_predictor(learner.model, preproc)"
   ]
  },
  {
   "cell_type": "code",
   "execution_count": null,
   "id": "b5668c7b",
   "metadata": {},
   "outputs": [],
   "source": [
    "pred_result = predictor.predict(x_test)"
   ]
  },
  {
   "cell_type": "markdown",
   "id": "a4d5646b",
   "metadata": {},
   "source": [
    "# Generally multi class classification model is evaluated on following metrics:\n",
    "\n",
    "1. Accuracy :<br>\n",
    "The base metric used for model evaluation is often Accuracy, describing the number of correct predictions over all predictions.\n",
    "\n",
    "2. Precision:<br>\n",
    "Precision is a measure of how many of the positive predictions made are correct. \n",
    "\n",
    "3. Recall:<br>\n",
    "Recall is a measure of how many of the positive cases the classifier correctly predicted, over all the positive cases in the data.\n",
    "\n",
    "4. F1-Score:<br>\n",
    "F1-Score is a measure combining both precision and recall. It is generally described as the harmonic mean of the two. Harmonic mean is just another way to calculate an “average” of values, generally described as more suitable for ratios (such as precision and recall) than the traditional arithmetic mean."
   ]
  },
  {
   "cell_type": "markdown",
   "id": "64fa350e",
   "metadata": {},
   "source": [
    "Accuracy is not a good measure in case if data having unbalanced classes. <br><br>\n",
    "Here we are interested in getting high value of accuracy and f1-score both as f1-score can summarise both precision and recall together.  <br><br>\n",
    "Below code prints all the required metrics."
   ]
  },
  {
   "cell_type": "code",
   "execution_count": null,
   "id": "6037c398",
   "metadata": {},
   "outputs": [],
   "source": [
    "print(classification_report(\n",
    "  y_test, \n",
    "  pred_result, \n",
    "  target_names= columns, \n",
    "  zero_division=0\n",
    "))"
   ]
  },
  {
   "cell_type": "markdown",
   "id": "d1efd47f",
   "metadata": {},
   "source": [
    "# Confusion Matrix\n",
    "\n",
    "The number of correct and incorrect predictions are summarized with count values and broken down by each class. <br><br>\n",
    "\n",
    "The confusion matrix shows the ways in which your classification model\n",
    "is confused when it makes predictions.\n",
    "<br><br>\n",
    "Below code prints the confusion matrix for classification model."
   ]
  },
  {
   "cell_type": "code",
   "execution_count": null,
   "id": "acc0f21a",
   "metadata": {},
   "outputs": [],
   "source": [
    "confusion_matrix(y_test, pred_result)\n",
    "c_m = pd.DataFrame(confusion_matrix(y_test, pred_result), columns= columns)\n",
    "c_m.index=columns\n",
    "c_m"
   ]
  },
  {
   "cell_type": "markdown",
   "id": "35130d7d",
   "metadata": {},
   "source": [
    "Save trained model."
   ]
  },
  {
   "cell_type": "code",
   "execution_count": null,
   "id": "da21db8d",
   "metadata": {},
   "outputs": [],
   "source": [
    "predictor.save(save_dir/\"model_distilbert\")"
   ]
  },
  {
   "cell_type": "code",
   "execution_count": null,
   "id": "3e01c52a",
   "metadata": {},
   "outputs": [],
   "source": []
  }
 ],
 "metadata": {
  "kernelspec": {
   "display_name": "env1",
   "language": "python",
   "name": "env1"
  },
  "language_info": {
   "codemirror_mode": {
    "name": "ipython",
    "version": 3
   },
   "file_extension": ".py",
   "mimetype": "text/x-python",
   "name": "python",
   "nbconvert_exporter": "python",
   "pygments_lexer": "ipython3",
   "version": "3.9.13"
  }
 },
 "nbformat": 4,
 "nbformat_minor": 5
}
