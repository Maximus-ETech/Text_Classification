{
 "cells": [
  {
   "cell_type": "markdown",
   "id": "d1625c44",
   "metadata": {},
   "source": [
    "# In this notebook, we have discussed implementing the Multiclass text classification with [Distilbert Model](https://arxiv.org/pdf/1910.01108.pdf) using [ktrain library](https://pypi.org/project/ktrain/)\n",
    "\n",
    "Let's discuss about all these terms in detail:\n",
    "1.   Multiclass text classification: It is the problem of classifying text \n",
    "instances (documents/query/tickets) into one of three or more classes.\n",
    "<br> <br> Example: Classifying queries raised by bank customers into one of the relevant \n",
    "categories like loan related, credit card related, debit card related etc. \n",
    "<br><br> Note: Text classification is an example of supervised machine learning.\n",
    "\n",
    "\n",
    "2. Distilbert model: It is deep learning based general purpose language model. It is pretrained on large corpus on text data. \n",
    "\n",
    "3.   Ktrain is a lightweight wrapper for the deep learning library TensorFlow Keras (and other libraries) to help build, train, and deploy neural networks and other machine learning models.\n"
   ]
  },
  {
   "cell_type": "markdown",
   "id": "4e562f96",
   "metadata": {},
   "source": [
    "# Import required libraries"
   ]
  },
  {
   "cell_type": "code",
   "execution_count": 2,
   "id": "26f7407c",
   "metadata": {},
   "outputs": [],
   "source": [
    "import ktrain \n",
    "from ktrain import text\n",
    "import tensorflow as tf\n",
    "import pandas as pd\n",
    "import numpy as np\n",
    "from sklearn.metrics import classification_report\n",
    "from sklearn.metrics import confusion_matrix\n",
    "import dotenv\n",
    "import os\n",
    "from pathlib import Path"
   ]
  },
  {
   "cell_type": "markdown",
   "id": "becfa9a8",
   "metadata": {},
   "source": [
    "# In order to get reproducible results, set random seed. "
   ]
  },
  {
   "cell_type": "code",
   "execution_count": 3,
   "id": "37539d03",
   "metadata": {},
   "outputs": [],
   "source": [
    "def reset_random_seeds(seed=2):\n",
    "    os.environ['PYTHONHASHSEED']=str(seed)\n",
    "    tf.random.set_seed(seed)\n",
    "    np.random.seed(seed)\n",
    "    \n",
    "reset_random_seeds() "
   ]
  },
  {
   "cell_type": "markdown",
   "id": "20430491",
   "metadata": {},
   "source": [
    "Follow the link to enable GPU \n",
    "https://learnopencv.com/how-to-use-opencv-dnn-module-with-nvidia-gpu-on-windows/"
   ]
  },
  {
   "cell_type": "markdown",
   "id": "0654656b",
   "metadata": {},
   "source": [
    "# If GPU is available then below code will enable GPU to be used by model training, otherwise model will be trained on CPU. "
   ]
  },
  {
   "cell_type": "code",
   "execution_count": 4,
   "id": "8556aa23",
   "metadata": {},
   "outputs": [],
   "source": [
    "physical_devices = tf.config.list_physical_devices('GPU') \n",
    "if len(physical_devices)>0:\n",
    "  tf.config.experimental.set_memory_growth(physical_devices[0], True)"
   ]
  },
  {
   "cell_type": "markdown",
   "id": "7dc750e6",
   "metadata": {},
   "source": [
    "# Read IT-tickets data"
   ]
  },
  {
   "cell_type": "code",
   "execution_count": 30,
   "id": "ad5fde00",
   "metadata": {},
   "outputs": [],
   "source": [
    "dotenv.load_dotenv() \n",
    "# #this brings values into the environment matching the key in quotes\n",
    "main_dir = Path(os.getenv('train_main_dir'))\n",
    "train_str = \"train_data_derived.csv\"\n",
    "test_str = \"test_data_derived.csv\"\n",
    "\n",
    "data_dir = main_dir /\"input_data\"/\"training_data\"/\"derived_dataframe_data\"  \n",
    "save_dir = main_dir /\"output\""
   ]
  },
  {
   "cell_type": "code",
   "execution_count": 13,
   "id": "39a9abfb",
   "metadata": {},
   "outputs": [],
   "source": [
    "train_data = pd.read_csv(data_dir/train_str,index_col=0)\n",
    "test_data = pd.read_csv(data_dir/test_str,index_col =0)"
   ]
  },
  {
   "cell_type": "code",
   "execution_count": 14,
   "id": "6eb50a4e",
   "metadata": {},
   "outputs": [],
   "source": [
    "train_data = train_data.drop(\"Ticket_ID\",axis= 1)"
   ]
  },
  {
   "cell_type": "markdown",
   "id": "fcbd7269",
   "metadata": {},
   "source": [
    "In order to pass equal amount of rows related to each tag to train and validation set, shuffle the data."
   ]
  },
  {
   "cell_type": "code",
   "execution_count": 16,
   "id": "81e34e42",
   "metadata": {},
   "outputs": [],
   "source": [
    "train_data = train_data.sample(frac = 1).reset_index()\n",
    "train_data.drop([\"index\"],inplace=True,axis=1)"
   ]
  },
  {
   "cell_type": "markdown",
   "id": "23d046f3",
   "metadata": {},
   "source": [
    "Print few rows of the train data. <br> In train_data, first column has text data as ticket description and remaining columns are having class values as 0 or 1. "
   ]
  },
  {
   "cell_type": "code",
   "execution_count": 17,
   "id": "1dbde3c5",
   "metadata": {},
   "outputs": [
    {
     "data": {
      "text/html": [
       "<div>\n",
       "<style scoped>\n",
       "    .dataframe tbody tr th:only-of-type {\n",
       "        vertical-align: middle;\n",
       "    }\n",
       "\n",
       "    .dataframe tbody tr th {\n",
       "        vertical-align: top;\n",
       "    }\n",
       "\n",
       "    .dataframe thead th {\n",
       "        text-align: right;\n",
       "    }\n",
       "</style>\n",
       "<table border=\"1\" class=\"dataframe\">\n",
       "  <thead>\n",
       "    <tr style=\"text-align: right;\">\n",
       "      <th></th>\n",
       "      <th>Body</th>\n",
       "      <th>Application_Administration</th>\n",
       "      <th>Corporate_Provisioning</th>\n",
       "      <th>Genesys_Support_Team</th>\n",
       "      <th>IT_Asset_Management</th>\n",
       "      <th>Service_Desk_-_Albany</th>\n",
       "      <th>Service_Desk_-_Enterprise_Tier_-_1</th>\n",
       "      <th>Service_Desk_-_Enterprise_Tier_-_2</th>\n",
       "      <th>SharePoint</th>\n",
       "    </tr>\n",
       "  </thead>\n",
       "  <tbody>\n",
       "    <tr>\n",
       "      <th>0</th>\n",
       "      <td>Departure Notification Departure Notification\\...</td>\n",
       "      <td>1</td>\n",
       "      <td>0</td>\n",
       "      <td>0</td>\n",
       "      <td>0</td>\n",
       "      <td>0</td>\n",
       "      <td>0</td>\n",
       "      <td>0</td>\n",
       "      <td>0</td>\n",
       "    </tr>\n",
       "    <tr>\n",
       "      <th>1</th>\n",
       "      <td>Replacement Laptop I need my laptop replaced. ...</td>\n",
       "      <td>0</td>\n",
       "      <td>0</td>\n",
       "      <td>0</td>\n",
       "      <td>1</td>\n",
       "      <td>0</td>\n",
       "      <td>0</td>\n",
       "      <td>0</td>\n",
       "      <td>0</td>\n",
       "    </tr>\n",
       "    <tr>\n",
       "      <th>2</th>\n",
       "      <td>Return Maximus equipment. - -(Submitted by Rya...</td>\n",
       "      <td>0</td>\n",
       "      <td>0</td>\n",
       "      <td>0</td>\n",
       "      <td>1</td>\n",
       "      <td>0</td>\n",
       "      <td>0</td>\n",
       "      <td>0</td>\n",
       "      <td>0</td>\n",
       "    </tr>\n",
       "    <tr>\n",
       "      <th>3</th>\n",
       "      <td>Siebel AMC server correction Please update the...</td>\n",
       "      <td>1</td>\n",
       "      <td>0</td>\n",
       "      <td>0</td>\n",
       "      <td>0</td>\n",
       "      <td>0</td>\n",
       "      <td>0</td>\n",
       "      <td>0</td>\n",
       "      <td>0</td>\n",
       "    </tr>\n",
       "    <tr>\n",
       "      <th>4</th>\n",
       "      <td>AidVantage thin client and peripherals - Amide...</td>\n",
       "      <td>0</td>\n",
       "      <td>0</td>\n",
       "      <td>0</td>\n",
       "      <td>1</td>\n",
       "      <td>0</td>\n",
       "      <td>0</td>\n",
       "      <td>0</td>\n",
       "      <td>0</td>\n",
       "    </tr>\n",
       "  </tbody>\n",
       "</table>\n",
       "</div>"
      ],
      "text/plain": [
       "                                                Body  \\\n",
       "0  Departure Notification Departure Notification\\...   \n",
       "1  Replacement Laptop I need my laptop replaced. ...   \n",
       "2  Return Maximus equipment. - -(Submitted by Rya...   \n",
       "3  Siebel AMC server correction Please update the...   \n",
       "4  AidVantage thin client and peripherals - Amide...   \n",
       "\n",
       "   Application_Administration  Corporate_Provisioning  Genesys_Support_Team  \\\n",
       "0                           1                       0                     0   \n",
       "1                           0                       0                     0   \n",
       "2                           0                       0                     0   \n",
       "3                           1                       0                     0   \n",
       "4                           0                       0                     0   \n",
       "\n",
       "   IT_Asset_Management  Service_Desk_-_Albany  \\\n",
       "0                    0                      0   \n",
       "1                    1                      0   \n",
       "2                    1                      0   \n",
       "3                    0                      0   \n",
       "4                    1                      0   \n",
       "\n",
       "   Service_Desk_-_Enterprise_Tier_-_1  Service_Desk_-_Enterprise_Tier_-_2  \\\n",
       "0                                   0                                   0   \n",
       "1                                   0                                   0   \n",
       "2                                   0                                   0   \n",
       "3                                   0                                   0   \n",
       "4                                   0                                   0   \n",
       "\n",
       "   SharePoint  \n",
       "0           0  \n",
       "1           0  \n",
       "2           0  \n",
       "3           0  \n",
       "4           0  "
      ]
     },
     "execution_count": 17,
     "metadata": {},
     "output_type": "execute_result"
    }
   ],
   "source": [
    "train_data.head()"
   ]
  },
  {
   "cell_type": "markdown",
   "id": "5dc8bd85",
   "metadata": {},
   "source": [
    "Below code shows the class distribution of train_data. <br>\n",
    "There are total 8 classes/categories of tickets or we can say each ticket can belong any one of 8 types of services. "
   ]
  },
  {
   "cell_type": "code",
   "execution_count": 18,
   "id": "9d194529",
   "metadata": {},
   "outputs": [
    {
     "data": {
      "image/png": "[encoded data removed]",
      "text/plain": [
       "<Figure size 640x480 with 1 Axes>"
      ]
     },
     "metadata": {},
     "output_type": "display_data"
    }
   ],
   "source": [
    "LABEL_COLUMNS = train_data.columns.tolist()[1:]\n",
    "train_data[LABEL_COLUMNS].sum().sort_values().plot(kind=\"barh\");"
   ]
  },
  {
   "cell_type": "markdown",
   "id": "6d58ae41",
   "metadata": {},
   "source": [
    "# Split data into Train, Validation and Test"
   ]
  },
  {
   "cell_type": "code",
   "execution_count": 33,
   "id": "84e8e9a4",
   "metadata": {},
   "outputs": [],
   "source": [
    "# Consider last 1500 rows from train set, as validation set\n",
    "train_df, val_df, test_df = train_data[:-1500],train_data[-1500:], test_data\n",
    "x_train,y_train = train_df.iloc[:,0].values, train_df.iloc[:,1:].values\n",
    "x_val,y_val = val_df.iloc[:,0].values, val_df.iloc[:,1:].values\n",
    "x_test,y_test = test_df.iloc[:,1].values, test_df.iloc[:,2:].values"
   ]
  },
  {
   "cell_type": "code",
   "execution_count": 20,
   "id": "e96e64a4",
   "metadata": {},
   "outputs": [],
   "source": [
    "class_names = train_data.columns[1:].tolist()"
   ]
  },
  {
   "cell_type": "code",
   "execution_count": 34,
   "id": "8e287d9a",
   "metadata": {},
   "outputs": [
    {
     "data": {
      "text/plain": [
       "['Application_Administration',\n",
       " 'Corporate_Provisioning',\n",
       " 'Genesys_Support_Team',\n",
       " 'IT_Asset_Management',\n",
       " 'Service_Desk_-_Albany',\n",
       " 'Service_Desk_-_Enterprise_Tier_-_1',\n",
       " 'Service_Desk_-_Enterprise_Tier_-_2',\n",
       " 'SharePoint']"
      ]
     },
     "execution_count": 34,
     "metadata": {},
     "output_type": "execute_result"
    }
   ],
   "source": [
    "class_names"
   ]
  },
  {
   "cell_type": "markdown",
   "id": "e29838ef",
   "metadata": {},
   "source": [
    "# Convert data into required form by Ktrain library and fine-tune distilbert model.\n"
   ]
  },
  {
   "cell_type": "markdown",
   "id": "1fe1ded0",
   "metadata": {},
   "source": [
    "Loads and preprocess text data from array by text module of ktrain."
   ]
  },
  {
   "cell_type": "code",
   "execution_count": 35,
   "id": "719a2c7c",
   "metadata": {},
   "outputs": [
    {
     "name": "stdout",
     "output_type": "stream",
     "text": [
      "preprocessing train...\n",
      "language: en\n",
      "train sequence lengths:\n",
      "\tmean : 41\n",
      "\t95percentile : 109\n",
      "\t99percentile : 240\n"
     ]
    },
    {
     "data": {
      "text/html": [
       "\n",
       "<style>\n",
       "    /* Turns off some styling */\n",
       "    progress {\n",
       "        /* gets rid of default border in Firefox and Opera. */\n",
       "        border: none;\n",
       "        /* Needs to be in here for Safari polyfill so background images work as expected. */\n",
       "        background-size: auto;\n",
       "    }\n",
       "    progress:not([value]), progress:not([value])::-webkit-progress-bar {\n",
       "        background: repeating-linear-gradient(45deg, #7e7e7e, #7e7e7e 10px, #5c5c5c 10px, #5c5c5c 20px);\n",
       "    }\n",
       "    .progress-bar-interrupted, .progress-bar-interrupted::-webkit-progress-bar {\n",
       "        background: #F44336;\n",
       "    }\n",
       "</style>\n"
      ],
      "text/plain": [
       "<IPython.core.display.HTML object>"
      ]
     },
     "metadata": {},
     "output_type": "display_data"
    },
    {
     "data": {
      "text/html": [],
      "text/plain": [
       "<IPython.core.display.HTML object>"
      ]
     },
     "metadata": {},
     "output_type": "display_data"
    },
    {
     "name": "stdout",
     "output_type": "stream",
     "text": [
      "Is Multi-Label? False\n",
      "preprocessing test...\n",
      "language: en\n",
      "test sequence lengths:\n",
      "\tmean : 41\n",
      "\t95percentile : 105\n",
      "\t99percentile : 259\n"
     ]
    },
    {
     "data": {
      "text/html": [
       "\n",
       "<style>\n",
       "    /* Turns off some styling */\n",
       "    progress {\n",
       "        /* gets rid of default border in Firefox and Opera. */\n",
       "        border: none;\n",
       "        /* Needs to be in here for Safari polyfill so background images work as expected. */\n",
       "        background-size: auto;\n",
       "    }\n",
       "    progress:not([value]), progress:not([value])::-webkit-progress-bar {\n",
       "        background: repeating-linear-gradient(45deg, #7e7e7e, #7e7e7e 10px, #5c5c5c 10px, #5c5c5c 20px);\n",
       "    }\n",
       "    .progress-bar-interrupted, .progress-bar-interrupted::-webkit-progress-bar {\n",
       "        background: #F44336;\n",
       "    }\n",
       "</style>\n"
      ],
      "text/plain": [
       "<IPython.core.display.HTML object>"
      ]
     },
     "metadata": {},
     "output_type": "display_data"
    },
    {
     "data": {
      "text/html": [],
      "text/plain": [
       "<IPython.core.display.HTML object>"
      ]
     },
     "metadata": {},
     "output_type": "display_data"
    },
    {
     "name": "stdout",
     "output_type": "stream",
     "text": [
      "task: text classification\n"
     ]
    }
   ],
   "source": [
    "trn, val, preproc = text.texts_from_array(x_train=x_train, y_train=y_train,\n",
    "                                          x_test=x_val, y_test=y_val,\n",
    "                                          class_names=class_names,\n",
    "                                          preprocess_mode='distilbert',\n",
    "                                          maxlen=512)"
   ]
  },
  {
   "cell_type": "markdown",
   "id": "32b6dfad",
   "metadata": {},
   "source": [
    "Download pre-trained distilbert model for transfer learning."
   ]
  },
  {
   "cell_type": "code",
   "execution_count": 22,
   "id": "cb30c57a",
   "metadata": {},
   "outputs": [
    {
     "name": "stdout",
     "output_type": "stream",
     "text": [
      "Is Multi-Label? False\n",
      "maxlen is 512\n",
      "done.\n"
     ]
    }
   ],
   "source": [
    "model = text.text_classifier('distilbert', train_data=trn, preproc=preproc)"
   ]
  },
  {
   "cell_type": "code",
   "execution_count": 23,
   "id": "b3fbcf6c",
   "metadata": {},
   "outputs": [],
   "source": [
    "learner = ktrain.get_learner(model, train_data=trn, val_data=val, batch_size=2)"
   ]
  },
  {
   "cell_type": "markdown",
   "id": "989ce855",
   "metadata": {},
   "source": [
    "Print the summary of the model."
   ]
  },
  {
   "cell_type": "code",
   "execution_count": 24,
   "id": "b1013e20",
   "metadata": {},
   "outputs": [
    {
     "name": "stdout",
     "output_type": "stream",
     "text": [
      "Model: \"tf_distil_bert_for_sequence_classification\"\n",
      "_________________________________________________________________\n",
      " Layer (type)                Output Shape              Param #   \n",
      "=================================================================\n",
      " distilbert (TFDistilBertMai  multiple                 66362880  \n",
      " nLayer)                                                         \n",
      "                                                                 \n",
      " pre_classifier (Dense)      multiple                  590592    \n",
      "                                                                 \n",
      " classifier (Dense)          multiple                  6152      \n",
      "                                                                 \n",
      " dropout_19 (Dropout)        multiple                  0         \n",
      "                                                                 \n",
      "=================================================================\n",
      "Total params: 66,959,624\n",
      "Trainable params: 66,959,624\n",
      "Non-trainable params: 0\n",
      "_________________________________________________________________\n"
     ]
    }
   ],
   "source": [
    "model.summary()"
   ]
  },
  {
   "cell_type": "markdown",
   "id": "ad970c07",
   "metadata": {},
   "source": [
    "Train the model for 8 epochs, as after 7 epochs validation loss started increasing.  \n",
    "\n",
    "Note: we can experiment increasing or decreasing the number of epochs in order to see the impact on performance."
   ]
  },
  {
   "cell_type": "code",
   "execution_count": 25,
   "id": "f3d90537",
   "metadata": {},
   "outputs": [
    {
     "name": "stdout",
     "output_type": "stream",
     "text": [
      "\n",
      "\n",
      "begin training using onecycle policy with max lr of 3e-05...\n",
      "Epoch 1/8\n",
      "2381/2381 [==============================] - 5330s 2s/step - loss: 1.2041 - accuracy: 0.6217 - val_loss: 0.6235 - val_accuracy: 0.7807\n",
      "Epoch 2/8\n",
      "2381/2381 [==============================] - 5279s 2s/step - loss: 0.5209 - accuracy: 0.8217 - val_loss: 0.5244 - val_accuracy: 0.8307\n",
      "Epoch 3/8\n",
      "2381/2381 [==============================] - 5246s 2s/step - loss: 0.3783 - accuracy: 0.8712 - val_loss: 0.5191 - val_accuracy: 0.8287\n",
      "Epoch 4/8\n",
      "2381/2381 [==============================] - 5227s 2s/step - loss: 0.3198 - accuracy: 0.8918 - val_loss: 0.5103 - val_accuracy: 0.8380\n",
      "Epoch 5/8\n",
      "2381/2381 [==============================] - 5229s 2s/step - loss: 0.2601 - accuracy: 0.9164 - val_loss: 0.5147 - val_accuracy: 0.8380\n",
      "Epoch 6/8\n",
      "2381/2381 [==============================] - 5238s 2s/step - loss: 0.1691 - accuracy: 0.9496 - val_loss: 0.6003 - val_accuracy: 0.8320\n",
      "Epoch 7/8\n",
      "2381/2381 [==============================] - 5220s 2s/step - loss: 0.0997 - accuracy: 0.9708 - val_loss: 0.5988 - val_accuracy: 0.8453\n",
      "Epoch 8/8\n",
      "2381/2381 [==============================] - 5207s 2s/step - loss: 0.0624 - accuracy: 0.9792 - val_loss: 0.6328 - val_accuracy: 0.8453\n"
     ]
    },
    {
     "data": {
      "text/plain": [
       "<keras.callbacks.History at 0x1aa4c401a90>"
      ]
     },
     "execution_count": 25,
     "metadata": {},
     "output_type": "execute_result"
    }
   ],
   "source": [
    "learner.fit_onecycle(3e-5, 8) # (learning rate,  epochs =8)"
   ]
  },
  {
   "cell_type": "markdown",
   "id": "2c5abb96",
   "metadata": {},
   "source": [
    "# Test model on test data and calculate evaluation metrics."
   ]
  },
  {
   "cell_type": "code",
   "execution_count": 26,
   "id": "3f772892",
   "metadata": {},
   "outputs": [],
   "source": [
    "predictor = ktrain.get_predictor(learner.model, preproc)"
   ]
  },
  {
   "cell_type": "code",
   "execution_count": 36,
   "id": "b5668c7b",
   "metadata": {},
   "outputs": [
    {
     "name": "stdout",
     "output_type": "stream",
     "text": [
      "49/49 [==============================] - 426s 9s/step\n"
     ]
    }
   ],
   "source": [
    "pred_result = predictor.predict(x_test)"
   ]
  },
  {
   "cell_type": "code",
   "execution_count": 39,
   "id": "327b968d",
   "metadata": {},
   "outputs": [],
   "source": [
    "# converting test prediction in 1-D array and assign label from 0 to len(class_names)-1\n",
    "pred = np.zeros((len(pred_result)))\n",
    "for i in range(len(pred_result)):\n",
    "    pred[i] = class_names.index(pred_result[i])\n",
    "test_pred = pred"
   ]
  },
  {
   "cell_type": "code",
   "execution_count": 40,
   "id": "4d395b53",
   "metadata": {},
   "outputs": [
    {
     "data": {
      "text/plain": [
       "array([0., 0., 0., ..., 7., 7., 7.])"
      ]
     },
     "execution_count": 40,
     "metadata": {},
     "output_type": "execute_result"
    }
   ],
   "source": [
    "test_pred"
   ]
  },
  {
   "cell_type": "code",
   "execution_count": 41,
   "id": "054cf870",
   "metadata": {},
   "outputs": [],
   "source": [
    "# converting test actual in 1-D array from n-d array\n",
    "test_actual =  np.zeros((len(y_test)))\n",
    "for i in range(len(y_test)):\n",
    "  test_actual[i] = int(np.where(y_test[i]==1)[0][0])"
   ]
  },
  {
   "cell_type": "markdown",
   "id": "a4d5646b",
   "metadata": {},
   "source": [
    "# Generally multi class classification model is evaluated on following metrics:\n",
    "\n",
    "1. Accuracy :<br>\n",
    "The base metric used for model evaluation is often Accuracy, describing the number of correct predictions over all predictions.\n",
    "\n",
    "2. Precision:<br>\n",
    "Precision is a measure of how many of the positive predictions made are correct. \n",
    "\n",
    "3. Recall:<br>\n",
    "Recall is a measure of how many of the positive cases the classifier correctly predicted, over all the positive cases in the data.\n",
    "\n",
    "4. F1-Score:<br>\n",
    "F1-Score is a measure combining both precision and recall. It is generally described as the harmonic mean of the two. Harmonic mean is just another way to calculate an “average” of values, generally described as more suitable for ratios (such as precision and recall) than the traditional arithmetic mean."
   ]
  },
  {
   "cell_type": "markdown",
   "id": "64fa350e",
   "metadata": {},
   "source": [
    "Accuracy is not a good measure in case if data having unbalanced classes. <br><br>\n",
    "Here we are interested in getting high value of accuracy and f1-score both as f1-score can summarise both precision and recall together.  <br><br>\n",
    "Below code prints all the required metrics."
   ]
  },
  {
   "cell_type": "code",
   "execution_count": 42,
   "id": "6037c398",
   "metadata": {},
   "outputs": [
    {
     "name": "stdout",
     "output_type": "stream",
     "text": [
      "                                    precision    recall  f1-score   support\n",
      "\n",
      "        Application_Administration       0.96      0.94      0.95       200\n",
      "            Corporate_Provisioning       0.88      0.85      0.87       200\n",
      "              Genesys_Support_Team       0.92      0.97      0.94       200\n",
      "               IT_Asset_Management       0.96      0.85      0.90       200\n",
      "             Service_Desk_-_Albany       0.95      0.92      0.93       200\n",
      "Service_Desk_-_Enterprise_Tier_-_1       0.64      0.82      0.72       200\n",
      "Service_Desk_-_Enterprise_Tier_-_2       0.59      0.51      0.55       200\n",
      "                        SharePoint       0.95      0.92      0.94       166\n",
      "\n",
      "                          accuracy                           0.85      1566\n",
      "                         macro avg       0.85      0.85      0.85      1566\n",
      "                      weighted avg       0.85      0.85      0.85      1566\n",
      "\n"
     ]
    }
   ],
   "source": [
    "print(classification_report(\n",
    "  test_actual, \n",
    "  test_pred, \n",
    "  target_names=class_names, \n",
    "  zero_division=0\n",
    "))"
   ]
  },
  {
   "cell_type": "markdown",
   "id": "d1efd47f",
   "metadata": {},
   "source": [
    "# Confusion Matrix\n",
    "\n",
    "The number of correct and incorrect predictions are summarized with count values and broken down by each class. <br><br>\n",
    "\n",
    "The confusion matrix shows the ways in which your classification model\n",
    "is confused when it makes predictions.\n",
    "<br><br>\n",
    "Below code prints the confusion matrix for classification model."
   ]
  },
  {
   "cell_type": "code",
   "execution_count": 43,
   "id": "acc0f21a",
   "metadata": {},
   "outputs": [
    {
     "data": {
      "text/html": [
       "<div>\n",
       "<style scoped>\n",
       "    .dataframe tbody tr th:only-of-type {\n",
       "        vertical-align: middle;\n",
       "    }\n",
       "\n",
       "    .dataframe tbody tr th {\n",
       "        vertical-align: top;\n",
       "    }\n",
       "\n",
       "    .dataframe thead th {\n",
       "        text-align: right;\n",
       "    }\n",
       "</style>\n",
       "<table border=\"1\" class=\"dataframe\">\n",
       "  <thead>\n",
       "    <tr style=\"text-align: right;\">\n",
       "      <th></th>\n",
       "      <th>Application_Administration</th>\n",
       "      <th>Corporate_Provisioning</th>\n",
       "      <th>Genesys_Support_Team</th>\n",
       "      <th>IT_Asset_Management</th>\n",
       "      <th>Service_Desk_-_Albany</th>\n",
       "      <th>Service_Desk_-_Enterprise_Tier_-_1</th>\n",
       "      <th>Service_Desk_-_Enterprise_Tier_-_2</th>\n",
       "      <th>SharePoint</th>\n",
       "    </tr>\n",
       "  </thead>\n",
       "  <tbody>\n",
       "    <tr>\n",
       "      <th>Application_Administration</th>\n",
       "      <td>189</td>\n",
       "      <td>1</td>\n",
       "      <td>0</td>\n",
       "      <td>2</td>\n",
       "      <td>3</td>\n",
       "      <td>0</td>\n",
       "      <td>4</td>\n",
       "      <td>1</td>\n",
       "    </tr>\n",
       "    <tr>\n",
       "      <th>Corporate_Provisioning</th>\n",
       "      <td>0</td>\n",
       "      <td>170</td>\n",
       "      <td>1</td>\n",
       "      <td>1</td>\n",
       "      <td>0</td>\n",
       "      <td>10</td>\n",
       "      <td>18</td>\n",
       "      <td>0</td>\n",
       "    </tr>\n",
       "    <tr>\n",
       "      <th>Genesys_Support_Team</th>\n",
       "      <td>1</td>\n",
       "      <td>0</td>\n",
       "      <td>195</td>\n",
       "      <td>0</td>\n",
       "      <td>0</td>\n",
       "      <td>1</td>\n",
       "      <td>2</td>\n",
       "      <td>1</td>\n",
       "    </tr>\n",
       "    <tr>\n",
       "      <th>IT_Asset_Management</th>\n",
       "      <td>0</td>\n",
       "      <td>8</td>\n",
       "      <td>4</td>\n",
       "      <td>171</td>\n",
       "      <td>0</td>\n",
       "      <td>5</td>\n",
       "      <td>12</td>\n",
       "      <td>0</td>\n",
       "    </tr>\n",
       "    <tr>\n",
       "      <th>Service_Desk_-_Albany</th>\n",
       "      <td>3</td>\n",
       "      <td>0</td>\n",
       "      <td>0</td>\n",
       "      <td>0</td>\n",
       "      <td>183</td>\n",
       "      <td>10</td>\n",
       "      <td>4</td>\n",
       "      <td>0</td>\n",
       "    </tr>\n",
       "    <tr>\n",
       "      <th>Service_Desk_-_Enterprise_Tier_-_1</th>\n",
       "      <td>2</td>\n",
       "      <td>6</td>\n",
       "      <td>2</td>\n",
       "      <td>2</td>\n",
       "      <td>0</td>\n",
       "      <td>164</td>\n",
       "      <td>23</td>\n",
       "      <td>1</td>\n",
       "    </tr>\n",
       "    <tr>\n",
       "      <th>Service_Desk_-_Enterprise_Tier_-_2</th>\n",
       "      <td>1</td>\n",
       "      <td>6</td>\n",
       "      <td>9</td>\n",
       "      <td>3</td>\n",
       "      <td>7</td>\n",
       "      <td>67</td>\n",
       "      <td>102</td>\n",
       "      <td>5</td>\n",
       "    </tr>\n",
       "    <tr>\n",
       "      <th>SharePoint</th>\n",
       "      <td>0</td>\n",
       "      <td>2</td>\n",
       "      <td>2</td>\n",
       "      <td>0</td>\n",
       "      <td>0</td>\n",
       "      <td>1</td>\n",
       "      <td>8</td>\n",
       "      <td>153</td>\n",
       "    </tr>\n",
       "  </tbody>\n",
       "</table>\n",
       "</div>"
      ],
      "text/plain": [
       "                                    Application_Administration  \\\n",
       "Application_Administration                                 189   \n",
       "Corporate_Provisioning                                       0   \n",
       "Genesys_Support_Team                                         1   \n",
       "IT_Asset_Management                                          0   \n",
       "Service_Desk_-_Albany                                        3   \n",
       "Service_Desk_-_Enterprise_Tier_-_1                           2   \n",
       "Service_Desk_-_Enterprise_Tier_-_2                           1   \n",
       "SharePoint                                                   0   \n",
       "\n",
       "                                    Corporate_Provisioning  \\\n",
       "Application_Administration                               1   \n",
       "Corporate_Provisioning                                 170   \n",
       "Genesys_Support_Team                                     0   \n",
       "IT_Asset_Management                                      8   \n",
       "Service_Desk_-_Albany                                    0   \n",
       "Service_Desk_-_Enterprise_Tier_-_1                       6   \n",
       "Service_Desk_-_Enterprise_Tier_-_2                       6   \n",
       "SharePoint                                               2   \n",
       "\n",
       "                                    Genesys_Support_Team  IT_Asset_Management  \\\n",
       "Application_Administration                             0                    2   \n",
       "Corporate_Provisioning                                 1                    1   \n",
       "Genesys_Support_Team                                 195                    0   \n",
       "IT_Asset_Management                                    4                  171   \n",
       "Service_Desk_-_Albany                                  0                    0   \n",
       "Service_Desk_-_Enterprise_Tier_-_1                     2                    2   \n",
       "Service_Desk_-_Enterprise_Tier_-_2                     9                    3   \n",
       "SharePoint                                             2                    0   \n",
       "\n",
       "                                    Service_Desk_-_Albany  \\\n",
       "Application_Administration                              3   \n",
       "Corporate_Provisioning                                  0   \n",
       "Genesys_Support_Team                                    0   \n",
       "IT_Asset_Management                                     0   \n",
       "Service_Desk_-_Albany                                 183   \n",
       "Service_Desk_-_Enterprise_Tier_-_1                      0   \n",
       "Service_Desk_-_Enterprise_Tier_-_2                      7   \n",
       "SharePoint                                              0   \n",
       "\n",
       "                                    Service_Desk_-_Enterprise_Tier_-_1  \\\n",
       "Application_Administration                                           0   \n",
       "Corporate_Provisioning                                              10   \n",
       "Genesys_Support_Team                                                 1   \n",
       "IT_Asset_Management                                                  5   \n",
       "Service_Desk_-_Albany                                               10   \n",
       "Service_Desk_-_Enterprise_Tier_-_1                                 164   \n",
       "Service_Desk_-_Enterprise_Tier_-_2                                  67   \n",
       "SharePoint                                                           1   \n",
       "\n",
       "                                    Service_Desk_-_Enterprise_Tier_-_2  \\\n",
       "Application_Administration                                           4   \n",
       "Corporate_Provisioning                                              18   \n",
       "Genesys_Support_Team                                                 2   \n",
       "IT_Asset_Management                                                 12   \n",
       "Service_Desk_-_Albany                                                4   \n",
       "Service_Desk_-_Enterprise_Tier_-_1                                  23   \n",
       "Service_Desk_-_Enterprise_Tier_-_2                                 102   \n",
       "SharePoint                                                           8   \n",
       "\n",
       "                                    SharePoint  \n",
       "Application_Administration                   1  \n",
       "Corporate_Provisioning                       0  \n",
       "Genesys_Support_Team                         1  \n",
       "IT_Asset_Management                          0  \n",
       "Service_Desk_-_Albany                        0  \n",
       "Service_Desk_-_Enterprise_Tier_-_1           1  \n",
       "Service_Desk_-_Enterprise_Tier_-_2           5  \n",
       "SharePoint                                 153  "
      ]
     },
     "execution_count": 43,
     "metadata": {},
     "output_type": "execute_result"
    }
   ],
   "source": [
    "confusion_matrix(test_actual, test_pred)\n",
    "c_m = pd.DataFrame(confusion_matrix(test_actual, test_pred), columns= class_names)\n",
    "c_m.index=class_names\n",
    "c_m"
   ]
  },
  {
   "cell_type": "markdown",
   "id": "b7a424fb",
   "metadata": {},
   "source": [
    "# let's predict the tags for few of the example tickets."
   ]
  },
  {
   "cell_type": "code",
   "execution_count": null,
   "id": "4a19385a",
   "metadata": {},
   "outputs": [],
   "source": [
    "ticket_description_1 = '{\\n  \"Customer Display Name\": \"Sindy E Pacheco\",\\n  \"Customer Title\": \"Supervisor - Call Center\",\\n  \"Incident Type\": \"Incident\",\\n  \"Incident ID\": \"3495927\",\\n  \"Priority\": \"3\",\\n  \"Customer Escalation\": \"Normal\",\\n  \"Short Description\": \"NYSOH-30 Remote-Oracle password reset\",\\n  \"Created By\": \"Alex Simpson\",\\n  \"Description\": \"Hello-\\\\\\\\n\\xa0\\\\\\\\nPlease assist in resetting password for my standalone OKM\\\\\\\\n\\xa0\\\\\\\\nEIN: 51855\\\\\\\\n\\xa0\\\\\\\\nThank you,\",\\n  \"Journal Notes\": \"Journal Note Added by Ravindra Kambala at 7/14/2022 2:47 AM\\\\\\\\nAccount has been unlocked and password updated and shared via mail\",\\n  \"Service\": \"Application Support and Development\",\\n  \"Category\": \"Cloud Application Services - Submit Incident\",\\n  \"Subcategory\": \"OKM - Oracle Knowledge Modules - Submit Incident\"\\n}\\n'\n",
    "#This is 1st example from test set.\n",
    "\n",
    "op = predictor.predict([ticket_description_1])\n",
    "\n",
    "actual_tags = test_data.iloc[0,1:][(test_data.iloc[0,1:]==1)].index\n",
    "print(\"\\nActual tag for ticket_description_1 is: \",list(actual_tags)[0])\n",
    "\n",
    "\n",
    "print(\"\\nPredicted tag for ticket_description_1 is :\",op[0])"
   ]
  },
  {
   "cell_type": "code",
   "execution_count": null,
   "id": "365ae5b2",
   "metadata": {},
   "outputs": [],
   "source": [
    "ticket_description_2 ='{\\n  \"Customer Display Name\": \"External Customer\",\\n  \"Customer Title\": \"\",\\n  \"Incident Type\": \"Service Request\",\\n  \"Incident ID\": \"3566289\",\\n  \"Priority\": \"5\",\\n  \"Customer Escalation\": \"Normal\",\\n  \"Short Description\": \"Departure Notification\",\\n  \"Created By\": \"Kevin Prosser\",\\n  \"Description\": \"Departure Notification\\\\\\\\n--------------------------------------------------\\\\\\\\nEmployee: \\xa0Yashira Plaza Ramos\\\\\\\\nEmployee ID: \\xa0467901\\\\\\\\nEmail Address: \\xa0YashiraPlazaRamos@maximus.com\\\\\\\\nMAX Status: \\xa0No Start\\\\\\\\n--------------------------------------------------\\\\\\\\nProject: \\xa0NYSOH\\\\\\\\nLocation: \\xa0New York\\\\\\\\nTitle: \\xa0CSS III\\\\\\\\nManager: \\xa0Darwin Pacheco (31493)\\\\\\\\nSupervisor: \\xa0Abubakar Mazhar (61008)\\\\\\\\nStart Date: \\xa008/15/2022\\\\\\\\nTerm Date: \\xa008/15/2022\\\\\\\\nMAX Type: \\xa0Perm\",\\n  \"Journal Notes\": \"\",\\n  \"Service\": \"Access and Account Management\",\\n  \"Category\": \"Employee Support\",\\n  \"Subcategory\": \"NYSOH Terminate (Separation) - Employee/Contractor\"\\n}\\n'\n",
    "#This is 101 example from test set.\n",
    "\n",
    "op = predictor.predict([ticket_description_2])\n",
    "\n",
    "actual_tags = test_data.iloc[100,1:][(test_data.iloc[100,1:]==1)].index\n",
    "print(\"\\nActual tag for ticket_description_2 is: \",list(actual_tags)[0])\n",
    "\n",
    "\n",
    "print(\"\\nPredicted tag for ticket_description_2 is :\",op[0])"
   ]
  },
  {
   "cell_type": "markdown",
   "id": "35130d7d",
   "metadata": {},
   "source": [
    "Save trained model."
   ]
  },
  {
   "cell_type": "code",
   "execution_count": 31,
   "id": "da21db8d",
   "metadata": {},
   "outputs": [],
   "source": [
    "predictor.save(save_dir/\"model_distilbert\")"
   ]
  }
 ],
 "metadata": {
  "kernelspec": {
   "display_name": "env1",
   "language": "python",
   "name": "env1"
  },
  "language_info": {
   "codemirror_mode": {
    "name": "ipython",
    "version": 3
   },
   "file_extension": ".py",
   "mimetype": "text/x-python",
   "name": "python",
   "nbconvert_exporter": "python",
   "pygments_lexer": "ipython3",
   "version": "3.9.13"
  }
 },
 "nbformat": 4,
 "nbformat_minor": 5
}
